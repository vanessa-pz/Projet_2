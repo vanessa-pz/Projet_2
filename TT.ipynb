{
 "cells": [
  {
   "cell_type": "code",
   "execution_count": null,
   "metadata": {},
   "outputs": [],
   "source": [
    "#Importation\n",
    "import pandas as pd\n",
    "url = \"https://datasets.imdbws.com/title.akas.tsv.gz\"\n",
    "df = pd.read_csv(url, sep = '\\t', na_values=[\"\\\\N\", \"NaN\", \"\"])\n",
    "display(df.head(100))"
   ]
  },
  {
   "cell_type": "code",
   "execution_count": null,
   "metadata": {},
   "outputs": [],
   "source": [
    "# Suppression 'attributes'\n",
    "df = df.drop(columns=['attributes'], errors='ignore')\n",
    "# Effacer NaN et supprimer les doublons\n",
    "df = df.dropna(subset=['types']).drop_duplicates()\n",
    "# Supprimer les lignes où des colonnes importantes sont NaN\n",
    "df = df.dropna(subset=['title', 'region', 'language'])\n",
    "# Afficher les résultats XWW\n",
    "df_us = df[df['region'] == 'XWW']\n",
    "# Suppression colonne 'region'\n",
    "df = df.drop(columns=['region'], errors='ignore')\n",
    "# Filtrer les lignes où \"ordering\" > 20\n",
    "df_filtered = df[df['ordering'] > 20]\n",
    "# Filtrer les lignes où le langage est en anglais ou en français\n",
    "df_filtered = df[df['language'].isin(['en', 'fr'])]\n",
    "display(df_us.head(1000000))"
   ]
  }
 ],
 "metadata": {
  "kernelspec": {
   "display_name": "Python 3",
   "language": "python",
   "name": "python3"
  },
  "language_info": {
   "codemirror_mode": {
    "name": "ipython",
    "version": 3
   },
   "file_extension": ".py",
   "mimetype": "text/x-python",
   "name": "python",
   "nbconvert_exporter": "python",
   "pygments_lexer": "ipython3",
   "version": "3.13.0"
  }
 },
 "nbformat": 4,
 "nbformat_minor": 2
}
