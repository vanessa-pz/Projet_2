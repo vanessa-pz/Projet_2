{
  "nbformat": 4,
  "nbformat_minor": 0,
  "metadata": {
    "colab": {
      "provenance": []
    },
    "kernelspec": {
      "name": "python3",
      "display_name": "Python 3"
    },
    "language_info": {
      "name": "python"
    }
  },
  "cells": [
    {
      "cell_type": "code",
      "execution_count": null,
      "metadata": {
        "id": "nbqNDWUjXTKJ"
      },
      "outputs": [],
      "source": [
        "from datetime import datetime\n",
        "from datetime import timedelta\n",
        "import pandas as pd\n",
        "import seaborn as sns\n",
        "import matplotlib.pyplot as plt\n",
        "import numpy as np"
      ]
    },
    {
      "cell_type": "code",
      "source": [
        "url = \"https://datasets.imdbws.com/title.basics.tsv.gz\"\n",
        "df3 = pd.read_csv(url, sep = '\\t', low_memory=False)"
      ],
      "metadata": {
        "id": "za80hezsXWo4"
      },
      "execution_count": null,
      "outputs": []
    },
    {
      "cell_type": "code",
      "source": [],
      "metadata": {
        "colab": {
          "base_uri": "https://localhost:8080/"
        },
        "id": "xKNmKHDveDsm",
        "outputId": "2fad45b7-e316-46dc-b86e-2239436108f5"
      },
      "execution_count": null,
      "outputs": [
        {
          "output_type": "stream",
          "name": "stdout",
          "text": [
            "<class 'pandas.core.frame.DataFrame'>\n",
            "RangeIndex: 11264054 entries, 0 to 11264053\n",
            "Data columns (total 9 columns):\n",
            " #   Column          Dtype \n",
            "---  ------          ----- \n",
            " 0   tconst          object\n",
            " 1   titleType       object\n",
            " 2   primaryTitle    object\n",
            " 3   originalTitle   object\n",
            " 4   isAdult         object\n",
            " 5   startYear       object\n",
            " 6   endYear         object\n",
            " 7   runtimeMinutes  object\n",
            " 8   genres          object\n",
            "dtypes: object(9)\n",
            "memory usage: 773.4+ MB\n",
            "None\n"
          ]
        }
      ]
    },
    {
      "cell_type": "code",
      "source": [
        "display(df3)"
      ],
      "metadata": {
        "colab": {
          "base_uri": "https://localhost:8080/",
          "height": 424
        },
        "id": "jOubByCMeFq5",
        "outputId": "3668f2c1-b770-4ff2-cdee-898bba7f6f37"
      },
      "execution_count": null,
      "outputs": [
        {
          "output_type": "display_data",
          "data": {
            "text/plain": [
              "             tconst  titleType               primaryTitle  \\\n",
              "0         tt0000001      short                 Carmencita   \n",
              "1         tt0000002      short     Le clown et ses chiens   \n",
              "2         tt0000003      short               Poor Pierrot   \n",
              "3         tt0000004      short                Un bon bock   \n",
              "4         tt0000005      short           Blacksmith Scene   \n",
              "...             ...        ...                        ...   \n",
              "11270714  tt9916848  tvEpisode              Episode #3.17   \n",
              "11270715  tt9916850  tvEpisode              Episode #3.19   \n",
              "11270716  tt9916852  tvEpisode              Episode #3.20   \n",
              "11270717  tt9916856      short                   The Wind   \n",
              "11270718  tt9916880  tvEpisode  Horrid Henry Knows It All   \n",
              "\n",
              "                      originalTitle isAdult startYear endYear runtimeMinutes  \\\n",
              "0                        Carmencita       0      1894      \\N              1   \n",
              "1            Le clown et ses chiens       0      1892      \\N              5   \n",
              "2                    Pauvre Pierrot       0      1892      \\N              5   \n",
              "3                       Un bon bock       0      1892      \\N             12   \n",
              "4                  Blacksmith Scene       0      1893      \\N              1   \n",
              "...                             ...     ...       ...     ...            ...   \n",
              "11270714              Episode #3.17       0      2009      \\N             \\N   \n",
              "11270715              Episode #3.19       0      2010      \\N             \\N   \n",
              "11270716              Episode #3.20       0      2010      \\N             \\N   \n",
              "11270717                   The Wind       0      2015      \\N             27   \n",
              "11270718  Horrid Henry Knows It All       0      2014      \\N             10   \n",
              "\n",
              "                              genres  \n",
              "0                  Documentary,Short  \n",
              "1                    Animation,Short  \n",
              "2           Animation,Comedy,Romance  \n",
              "3                    Animation,Short  \n",
              "4                       Comedy,Short  \n",
              "...                              ...  \n",
              "11270714         Action,Drama,Family  \n",
              "11270715         Action,Drama,Family  \n",
              "11270716         Action,Drama,Family  \n",
              "11270717                       Short  \n",
              "11270718  Adventure,Animation,Comedy  \n",
              "\n",
              "[11270719 rows x 9 columns]"
            ],
            "text/html": [
              "\n",
              "  <div id=\"df-02ed3682-b635-4b3a-bc00-240ef4f4c25a\" class=\"colab-df-container\">\n",
              "    <div>\n",
              "<style scoped>\n",
              "    .dataframe tbody tr th:only-of-type {\n",
              "        vertical-align: middle;\n",
              "    }\n",
              "\n",
              "    .dataframe tbody tr th {\n",
              "        vertical-align: top;\n",
              "    }\n",
              "\n",
              "    .dataframe thead th {\n",
              "        text-align: right;\n",
              "    }\n",
              "</style>\n",
              "<table border=\"1\" class=\"dataframe\">\n",
              "  <thead>\n",
              "    <tr style=\"text-align: right;\">\n",
              "      <th></th>\n",
              "      <th>tconst</th>\n",
              "      <th>titleType</th>\n",
              "      <th>primaryTitle</th>\n",
              "      <th>originalTitle</th>\n",
              "      <th>isAdult</th>\n",
              "      <th>startYear</th>\n",
              "      <th>endYear</th>\n",
              "      <th>runtimeMinutes</th>\n",
              "      <th>genres</th>\n",
              "    </tr>\n",
              "  </thead>\n",
              "  <tbody>\n",
              "    <tr>\n",
              "      <th>0</th>\n",
              "      <td>tt0000001</td>\n",
              "      <td>short</td>\n",
              "      <td>Carmencita</td>\n",
              "      <td>Carmencita</td>\n",
              "      <td>0</td>\n",
              "      <td>1894</td>\n",
              "      <td>\\N</td>\n",
              "      <td>1</td>\n",
              "      <td>Documentary,Short</td>\n",
              "    </tr>\n",
              "    <tr>\n",
              "      <th>1</th>\n",
              "      <td>tt0000002</td>\n",
              "      <td>short</td>\n",
              "      <td>Le clown et ses chiens</td>\n",
              "      <td>Le clown et ses chiens</td>\n",
              "      <td>0</td>\n",
              "      <td>1892</td>\n",
              "      <td>\\N</td>\n",
              "      <td>5</td>\n",
              "      <td>Animation,Short</td>\n",
              "    </tr>\n",
              "    <tr>\n",
              "      <th>2</th>\n",
              "      <td>tt0000003</td>\n",
              "      <td>short</td>\n",
              "      <td>Poor Pierrot</td>\n",
              "      <td>Pauvre Pierrot</td>\n",
              "      <td>0</td>\n",
              "      <td>1892</td>\n",
              "      <td>\\N</td>\n",
              "      <td>5</td>\n",
              "      <td>Animation,Comedy,Romance</td>\n",
              "    </tr>\n",
              "    <tr>\n",
              "      <th>3</th>\n",
              "      <td>tt0000004</td>\n",
              "      <td>short</td>\n",
              "      <td>Un bon bock</td>\n",
              "      <td>Un bon bock</td>\n",
              "      <td>0</td>\n",
              "      <td>1892</td>\n",
              "      <td>\\N</td>\n",
              "      <td>12</td>\n",
              "      <td>Animation,Short</td>\n",
              "    </tr>\n",
              "    <tr>\n",
              "      <th>4</th>\n",
              "      <td>tt0000005</td>\n",
              "      <td>short</td>\n",
              "      <td>Blacksmith Scene</td>\n",
              "      <td>Blacksmith Scene</td>\n",
              "      <td>0</td>\n",
              "      <td>1893</td>\n",
              "      <td>\\N</td>\n",
              "      <td>1</td>\n",
              "      <td>Comedy,Short</td>\n",
              "    </tr>\n",
              "    <tr>\n",
              "      <th>...</th>\n",
              "      <td>...</td>\n",
              "      <td>...</td>\n",
              "      <td>...</td>\n",
              "      <td>...</td>\n",
              "      <td>...</td>\n",
              "      <td>...</td>\n",
              "      <td>...</td>\n",
              "      <td>...</td>\n",
              "      <td>...</td>\n",
              "    </tr>\n",
              "    <tr>\n",
              "      <th>11270714</th>\n",
              "      <td>tt9916848</td>\n",
              "      <td>tvEpisode</td>\n",
              "      <td>Episode #3.17</td>\n",
              "      <td>Episode #3.17</td>\n",
              "      <td>0</td>\n",
              "      <td>2009</td>\n",
              "      <td>\\N</td>\n",
              "      <td>\\N</td>\n",
              "      <td>Action,Drama,Family</td>\n",
              "    </tr>\n",
              "    <tr>\n",
              "      <th>11270715</th>\n",
              "      <td>tt9916850</td>\n",
              "      <td>tvEpisode</td>\n",
              "      <td>Episode #3.19</td>\n",
              "      <td>Episode #3.19</td>\n",
              "      <td>0</td>\n",
              "      <td>2010</td>\n",
              "      <td>\\N</td>\n",
              "      <td>\\N</td>\n",
              "      <td>Action,Drama,Family</td>\n",
              "    </tr>\n",
              "    <tr>\n",
              "      <th>11270716</th>\n",
              "      <td>tt9916852</td>\n",
              "      <td>tvEpisode</td>\n",
              "      <td>Episode #3.20</td>\n",
              "      <td>Episode #3.20</td>\n",
              "      <td>0</td>\n",
              "      <td>2010</td>\n",
              "      <td>\\N</td>\n",
              "      <td>\\N</td>\n",
              "      <td>Action,Drama,Family</td>\n",
              "    </tr>\n",
              "    <tr>\n",
              "      <th>11270717</th>\n",
              "      <td>tt9916856</td>\n",
              "      <td>short</td>\n",
              "      <td>The Wind</td>\n",
              "      <td>The Wind</td>\n",
              "      <td>0</td>\n",
              "      <td>2015</td>\n",
              "      <td>\\N</td>\n",
              "      <td>27</td>\n",
              "      <td>Short</td>\n",
              "    </tr>\n",
              "    <tr>\n",
              "      <th>11270718</th>\n",
              "      <td>tt9916880</td>\n",
              "      <td>tvEpisode</td>\n",
              "      <td>Horrid Henry Knows It All</td>\n",
              "      <td>Horrid Henry Knows It All</td>\n",
              "      <td>0</td>\n",
              "      <td>2014</td>\n",
              "      <td>\\N</td>\n",
              "      <td>10</td>\n",
              "      <td>Adventure,Animation,Comedy</td>\n",
              "    </tr>\n",
              "  </tbody>\n",
              "</table>\n",
              "<p>11270719 rows × 9 columns</p>\n",
              "</div>\n",
              "    <div class=\"colab-df-buttons\">\n",
              "\n",
              "  <div class=\"colab-df-container\">\n",
              "    <button class=\"colab-df-convert\" onclick=\"convertToInteractive('df-02ed3682-b635-4b3a-bc00-240ef4f4c25a')\"\n",
              "            title=\"Convert this dataframe to an interactive table.\"\n",
              "            style=\"display:none;\">\n",
              "\n",
              "  <svg xmlns=\"http://www.w3.org/2000/svg\" height=\"24px\" viewBox=\"0 -960 960 960\">\n",
              "    <path d=\"M120-120v-720h720v720H120Zm60-500h600v-160H180v160Zm220 220h160v-160H400v160Zm0 220h160v-160H400v160ZM180-400h160v-160H180v160Zm440 0h160v-160H620v160ZM180-180h160v-160H180v160Zm440 0h160v-160H620v160Z\"/>\n",
              "  </svg>\n",
              "    </button>\n",
              "\n",
              "  <style>\n",
              "    .colab-df-container {\n",
              "      display:flex;\n",
              "      gap: 12px;\n",
              "    }\n",
              "\n",
              "    .colab-df-convert {\n",
              "      background-color: #E8F0FE;\n",
              "      border: none;\n",
              "      border-radius: 50%;\n",
              "      cursor: pointer;\n",
              "      display: none;\n",
              "      fill: #1967D2;\n",
              "      height: 32px;\n",
              "      padding: 0 0 0 0;\n",
              "      width: 32px;\n",
              "    }\n",
              "\n",
              "    .colab-df-convert:hover {\n",
              "      background-color: #E2EBFA;\n",
              "      box-shadow: 0px 1px 2px rgba(60, 64, 67, 0.3), 0px 1px 3px 1px rgba(60, 64, 67, 0.15);\n",
              "      fill: #174EA6;\n",
              "    }\n",
              "\n",
              "    .colab-df-buttons div {\n",
              "      margin-bottom: 4px;\n",
              "    }\n",
              "\n",
              "    [theme=dark] .colab-df-convert {\n",
              "      background-color: #3B4455;\n",
              "      fill: #D2E3FC;\n",
              "    }\n",
              "\n",
              "    [theme=dark] .colab-df-convert:hover {\n",
              "      background-color: #434B5C;\n",
              "      box-shadow: 0px 1px 3px 1px rgba(0, 0, 0, 0.15);\n",
              "      filter: drop-shadow(0px 1px 2px rgba(0, 0, 0, 0.3));\n",
              "      fill: #FFFFFF;\n",
              "    }\n",
              "  </style>\n",
              "\n",
              "    <script>\n",
              "      const buttonEl =\n",
              "        document.querySelector('#df-02ed3682-b635-4b3a-bc00-240ef4f4c25a button.colab-df-convert');\n",
              "      buttonEl.style.display =\n",
              "        google.colab.kernel.accessAllowed ? 'block' : 'none';\n",
              "\n",
              "      async function convertToInteractive(key) {\n",
              "        const element = document.querySelector('#df-02ed3682-b635-4b3a-bc00-240ef4f4c25a');\n",
              "        const dataTable =\n",
              "          await google.colab.kernel.invokeFunction('convertToInteractive',\n",
              "                                                    [key], {});\n",
              "        if (!dataTable) return;\n",
              "\n",
              "        const docLinkHtml = 'Like what you see? Visit the ' +\n",
              "          '<a target=\"_blank\" href=https://colab.research.google.com/notebooks/data_table.ipynb>data table notebook</a>'\n",
              "          + ' to learn more about interactive tables.';\n",
              "        element.innerHTML = '';\n",
              "        dataTable['output_type'] = 'display_data';\n",
              "        await google.colab.output.renderOutput(dataTable, element);\n",
              "        const docLink = document.createElement('div');\n",
              "        docLink.innerHTML = docLinkHtml;\n",
              "        element.appendChild(docLink);\n",
              "      }\n",
              "    </script>\n",
              "  </div>\n",
              "\n",
              "\n",
              "<div id=\"df-caa392c0-60d9-4673-9254-1277b7ae49d9\">\n",
              "  <button class=\"colab-df-quickchart\" onclick=\"quickchart('df-caa392c0-60d9-4673-9254-1277b7ae49d9')\"\n",
              "            title=\"Suggest charts\"\n",
              "            style=\"display:none;\">\n",
              "\n",
              "<svg xmlns=\"http://www.w3.org/2000/svg\" height=\"24px\"viewBox=\"0 0 24 24\"\n",
              "     width=\"24px\">\n",
              "    <g>\n",
              "        <path d=\"M19 3H5c-1.1 0-2 .9-2 2v14c0 1.1.9 2 2 2h14c1.1 0 2-.9 2-2V5c0-1.1-.9-2-2-2zM9 17H7v-7h2v7zm4 0h-2V7h2v10zm4 0h-2v-4h2v4z\"/>\n",
              "    </g>\n",
              "</svg>\n",
              "  </button>\n",
              "\n",
              "<style>\n",
              "  .colab-df-quickchart {\n",
              "      --bg-color: #E8F0FE;\n",
              "      --fill-color: #1967D2;\n",
              "      --hover-bg-color: #E2EBFA;\n",
              "      --hover-fill-color: #174EA6;\n",
              "      --disabled-fill-color: #AAA;\n",
              "      --disabled-bg-color: #DDD;\n",
              "  }\n",
              "\n",
              "  [theme=dark] .colab-df-quickchart {\n",
              "      --bg-color: #3B4455;\n",
              "      --fill-color: #D2E3FC;\n",
              "      --hover-bg-color: #434B5C;\n",
              "      --hover-fill-color: #FFFFFF;\n",
              "      --disabled-bg-color: #3B4455;\n",
              "      --disabled-fill-color: #666;\n",
              "  }\n",
              "\n",
              "  .colab-df-quickchart {\n",
              "    background-color: var(--bg-color);\n",
              "    border: none;\n",
              "    border-radius: 50%;\n",
              "    cursor: pointer;\n",
              "    display: none;\n",
              "    fill: var(--fill-color);\n",
              "    height: 32px;\n",
              "    padding: 0;\n",
              "    width: 32px;\n",
              "  }\n",
              "\n",
              "  .colab-df-quickchart:hover {\n",
              "    background-color: var(--hover-bg-color);\n",
              "    box-shadow: 0 1px 2px rgba(60, 64, 67, 0.3), 0 1px 3px 1px rgba(60, 64, 67, 0.15);\n",
              "    fill: var(--button-hover-fill-color);\n",
              "  }\n",
              "\n",
              "  .colab-df-quickchart-complete:disabled,\n",
              "  .colab-df-quickchart-complete:disabled:hover {\n",
              "    background-color: var(--disabled-bg-color);\n",
              "    fill: var(--disabled-fill-color);\n",
              "    box-shadow: none;\n",
              "  }\n",
              "\n",
              "  .colab-df-spinner {\n",
              "    border: 2px solid var(--fill-color);\n",
              "    border-color: transparent;\n",
              "    border-bottom-color: var(--fill-color);\n",
              "    animation:\n",
              "      spin 1s steps(1) infinite;\n",
              "  }\n",
              "\n",
              "  @keyframes spin {\n",
              "    0% {\n",
              "      border-color: transparent;\n",
              "      border-bottom-color: var(--fill-color);\n",
              "      border-left-color: var(--fill-color);\n",
              "    }\n",
              "    20% {\n",
              "      border-color: transparent;\n",
              "      border-left-color: var(--fill-color);\n",
              "      border-top-color: var(--fill-color);\n",
              "    }\n",
              "    30% {\n",
              "      border-color: transparent;\n",
              "      border-left-color: var(--fill-color);\n",
              "      border-top-color: var(--fill-color);\n",
              "      border-right-color: var(--fill-color);\n",
              "    }\n",
              "    40% {\n",
              "      border-color: transparent;\n",
              "      border-right-color: var(--fill-color);\n",
              "      border-top-color: var(--fill-color);\n",
              "    }\n",
              "    60% {\n",
              "      border-color: transparent;\n",
              "      border-right-color: var(--fill-color);\n",
              "    }\n",
              "    80% {\n",
              "      border-color: transparent;\n",
              "      border-right-color: var(--fill-color);\n",
              "      border-bottom-color: var(--fill-color);\n",
              "    }\n",
              "    90% {\n",
              "      border-color: transparent;\n",
              "      border-bottom-color: var(--fill-color);\n",
              "    }\n",
              "  }\n",
              "</style>\n",
              "\n",
              "  <script>\n",
              "    async function quickchart(key) {\n",
              "      const quickchartButtonEl =\n",
              "        document.querySelector('#' + key + ' button');\n",
              "      quickchartButtonEl.disabled = true;  // To prevent multiple clicks.\n",
              "      quickchartButtonEl.classList.add('colab-df-spinner');\n",
              "      try {\n",
              "        const charts = await google.colab.kernel.invokeFunction(\n",
              "            'suggestCharts', [key], {});\n",
              "      } catch (error) {\n",
              "        console.error('Error during call to suggestCharts:', error);\n",
              "      }\n",
              "      quickchartButtonEl.classList.remove('colab-df-spinner');\n",
              "      quickchartButtonEl.classList.add('colab-df-quickchart-complete');\n",
              "    }\n",
              "    (() => {\n",
              "      let quickchartButtonEl =\n",
              "        document.querySelector('#df-caa392c0-60d9-4673-9254-1277b7ae49d9 button');\n",
              "      quickchartButtonEl.style.display =\n",
              "        google.colab.kernel.accessAllowed ? 'block' : 'none';\n",
              "    })();\n",
              "  </script>\n",
              "</div>\n",
              "\n",
              "  <div id=\"id_b572e2ee-3f59-4eb8-becd-70938f876d84\">\n",
              "    <style>\n",
              "      .colab-df-generate {\n",
              "        background-color: #E8F0FE;\n",
              "        border: none;\n",
              "        border-radius: 50%;\n",
              "        cursor: pointer;\n",
              "        display: none;\n",
              "        fill: #1967D2;\n",
              "        height: 32px;\n",
              "        padding: 0 0 0 0;\n",
              "        width: 32px;\n",
              "      }\n",
              "\n",
              "      .colab-df-generate:hover {\n",
              "        background-color: #E2EBFA;\n",
              "        box-shadow: 0px 1px 2px rgba(60, 64, 67, 0.3), 0px 1px 3px 1px rgba(60, 64, 67, 0.15);\n",
              "        fill: #174EA6;\n",
              "      }\n",
              "\n",
              "      [theme=dark] .colab-df-generate {\n",
              "        background-color: #3B4455;\n",
              "        fill: #D2E3FC;\n",
              "      }\n",
              "\n",
              "      [theme=dark] .colab-df-generate:hover {\n",
              "        background-color: #434B5C;\n",
              "        box-shadow: 0px 1px 3px 1px rgba(0, 0, 0, 0.15);\n",
              "        filter: drop-shadow(0px 1px 2px rgba(0, 0, 0, 0.3));\n",
              "        fill: #FFFFFF;\n",
              "      }\n",
              "    </style>\n",
              "    <button class=\"colab-df-generate\" onclick=\"generateWithVariable('df3')\"\n",
              "            title=\"Generate code using this dataframe.\"\n",
              "            style=\"display:none;\">\n",
              "\n",
              "  <svg xmlns=\"http://www.w3.org/2000/svg\" height=\"24px\"viewBox=\"0 0 24 24\"\n",
              "       width=\"24px\">\n",
              "    <path d=\"M7,19H8.4L18.45,9,17,7.55,7,17.6ZM5,21V16.75L18.45,3.32a2,2,0,0,1,2.83,0l1.4,1.43a1.91,1.91,0,0,1,.58,1.4,1.91,1.91,0,0,1-.58,1.4L9.25,21ZM18.45,9,17,7.55Zm-12,3A5.31,5.31,0,0,0,4.9,8.1,5.31,5.31,0,0,0,1,6.5,5.31,5.31,0,0,0,4.9,4.9,5.31,5.31,0,0,0,6.5,1,5.31,5.31,0,0,0,8.1,4.9,5.31,5.31,0,0,0,12,6.5,5.46,5.46,0,0,0,6.5,12Z\"/>\n",
              "  </svg>\n",
              "    </button>\n",
              "    <script>\n",
              "      (() => {\n",
              "      const buttonEl =\n",
              "        document.querySelector('#id_b572e2ee-3f59-4eb8-becd-70938f876d84 button.colab-df-generate');\n",
              "      buttonEl.style.display =\n",
              "        google.colab.kernel.accessAllowed ? 'block' : 'none';\n",
              "\n",
              "      buttonEl.onclick = () => {\n",
              "        google.colab.notebook.generateWithVariable('df3');\n",
              "      }\n",
              "      })();\n",
              "    </script>\n",
              "  </div>\n",
              "\n",
              "    </div>\n",
              "  </div>\n"
            ],
            "application/vnd.google.colaboratory.intrinsic+json": {
              "type": "dataframe",
              "variable_name": "df3"
            }
          },
          "metadata": {}
        }
      ]
    },
    {
      "cell_type": "code",
      "source": [
        "print(df3.dtypes)"
      ],
      "metadata": {
        "colab": {
          "base_uri": "https://localhost:8080/"
        },
        "id": "82ezLrpbePCV",
        "outputId": "03b4d9bb-e3db-4ac0-8e9f-2f04e417a3ff"
      },
      "execution_count": null,
      "outputs": [
        {
          "output_type": "stream",
          "name": "stdout",
          "text": [
            "tconst            object\n",
            "titleType         object\n",
            "primaryTitle      object\n",
            "originalTitle     object\n",
            "isAdult           object\n",
            "startYear         object\n",
            "endYear           object\n",
            "runtimeMinutes    object\n",
            "genres            object\n",
            "dtype: object\n"
          ]
        }
      ]
    },
    {
      "cell_type": "code",
      "source": [
        "# Résumé statistique des colonnes numériques\n",
        "print(df3.describe())\n"
      ],
      "metadata": {
        "colab": {
          "base_uri": "https://localhost:8080/"
        },
        "id": "0du31cise-2p",
        "outputId": "3c89a248-02e8-4a55-a64f-0decaacb2222"
      },
      "execution_count": null,
      "outputs": [
        {
          "output_type": "stream",
          "name": "stdout",
          "text": [
            "           tconst  titleType  primaryTitle originalTitle   isAdult startYear  \\\n",
            "count    11264054   11264054      11264035      11264035  11264054  11264054   \n",
            "unique   11264054         11       5056878       5081559        42       152   \n",
            "top     tt0000001  tvEpisode  Episode #1.1  Episode #1.1         0        \\N   \n",
            "freq            1    8652927         53496         53496  10901448   1417127   \n",
            "\n",
            "         endYear runtimeMinutes    genres  \n",
            "count   11264054       11264054  11263421  \n",
            "unique        98            945      2383  \n",
            "top           \\N             \\N     Drama  \n",
            "freq    11131490        7707910   1276745  \n"
          ]
        }
      ]
    },
    {
      "cell_type": "code",
      "source": [
        "# Vérifier les valeurs manquantes dans chaque colonne\n",
        "print(df3.isnull().sum())"
      ],
      "metadata": {
        "colab": {
          "base_uri": "https://localhost:8080/",
          "height": 159
        },
        "id": "TDYV_QyCe6Mm",
        "outputId": "3c99ca37-a68e-47ab-f182-45608c1e315e"
      },
      "execution_count": null,
      "outputs": [
        {
          "output_type": "error",
          "ename": "NameError",
          "evalue": "name 'df3' is not defined",
          "traceback": [
            "\u001b[0;31m---------------------------------------------------------------------------\u001b[0m",
            "\u001b[0;31mNameError\u001b[0m                                 Traceback (most recent call last)",
            "\u001b[0;32m<ipython-input-6-6b2da73b6ecc>\u001b[0m in \u001b[0;36m<cell line: 2>\u001b[0;34m()\u001b[0m\n\u001b[1;32m      1\u001b[0m \u001b[0;31m# Vérifier les valeurs manquantes dans chaque colonne\u001b[0m\u001b[0;34m\u001b[0m\u001b[0;34m\u001b[0m\u001b[0m\n\u001b[0;32m----> 2\u001b[0;31m \u001b[0mprint\u001b[0m\u001b[0;34m(\u001b[0m\u001b[0mdf3\u001b[0m\u001b[0;34m.\u001b[0m\u001b[0misnull\u001b[0m\u001b[0;34m(\u001b[0m\u001b[0;34m)\u001b[0m\u001b[0;34m.\u001b[0m\u001b[0msum\u001b[0m\u001b[0;34m(\u001b[0m\u001b[0;34m)\u001b[0m\u001b[0;34m)\u001b[0m\u001b[0;34m\u001b[0m\u001b[0;34m\u001b[0m\u001b[0m\n\u001b[0m",
            "\u001b[0;31mNameError\u001b[0m: name 'df3' is not defined"
          ]
        }
      ]
    },
    {
      "cell_type": "code",
      "source": [
        "# Filtrer les films uniquement (titleType == 'movie')\n",
        "df_films = df3[df3['titleType'] == 'movie']"
      ],
      "metadata": {
        "id": "f6a1ccBGgB48"
      },
      "execution_count": null,
      "outputs": []
    },
    {
      "cell_type": "code",
      "source": [
        "# Vérifier le nombre de NaN avant le remplacement\n",
        "nan_before_runtime = df_films['runtimeMinutes'].isna().sum()\n",
        "nan_before_startYear = df_films['startYear'].isna().sum()\n",
        "nan_before_endYear = df_films['endYear'].isna().sum()\n",
        "\n",
        "print(f\"NaN avant remplacement (runtimeMinutes) : {nan_before_runtime}\")\n",
        "print(f\"NaN avant remplacement (startYear) : {nan_before_startYear}\")\n",
        "print(f\"NaN avant remplacement (endYear) : {nan_before_endYear}\")\n",
        "\n",
        "# Remplacer les valeurs '\\N' par NaN\n",
        "df_films.loc[:, 'runtimeMinutes'] = df_films['runtimeMinutes'].replace(r'\\\\N', np.nan, regex=True)\n",
        "df_films.loc[:, 'startYear'] = df_films['startYear'].replace(r'\\\\N', np.nan, regex=True)\n",
        "df_films.loc[:, 'endYear'] = df_films['endYear'].replace(r'\\\\N', np.nan, regex=True)\n",
        "\n",
        "# Vérifier le nombre de NaN après le remplacement\n",
        "nan_after_runtime = df_films['runtimeMinutes'].isna().sum()\n",
        "nan_after_startYear = df_films['startYear'].isna().sum()\n",
        "nan_after_endYear = df_films['endYear'].isna().sum()\n",
        "\n",
        "print(f\"NaN après remplacement (runtimeMinutes) : {nan_after_runtime}\")\n",
        "print(f\"NaN après remplacement (startYear) : {nan_after_startYear}\")\n",
        "print(f\"NaN après remplacement (endYear) : {nan_after_endYear}\")\n"
      ],
      "metadata": {
        "colab": {
          "base_uri": "https://localhost:8080/"
        },
        "id": "NYeUW9PwhzDA",
        "outputId": "2124f91b-d3bc-414d-8658-292d04155cee"
      },
      "execution_count": null,
      "outputs": [
        {
          "output_type": "stream",
          "name": "stdout",
          "text": [
            "NaN avant remplacement (runtimeMinutes) : 258602\n",
            "NaN avant remplacement (startYear) : 101513\n",
            "NaN avant remplacement (endYear) : 698281\n",
            "NaN après remplacement (runtimeMinutes) : 258602\n",
            "NaN après remplacement (startYear) : 101513\n",
            "NaN après remplacement (endYear) : 698281\n"
          ]
        }
      ]
    },
    {
      "cell_type": "code",
      "source": [],
      "metadata": {
        "id": "Hj2WFWyyhTiZ"
      },
      "execution_count": null,
      "outputs": []
    },
    {
      "cell_type": "code",
      "source": [
        "# Convertir les colonnes startYear, endYear et runtimeMinutes en numériques\n",
        "df_films['startYear'] = pd.to_numeric(df_films['startYear'], errors='coerce')\n",
        "df_films['endYear'] = pd.to_numeric(df_films['endYear'], errors='coerce')\n",
        "df_films['runtimeMinutes'] = pd.to_numeric(df_films['runtimeMinutes'], errors='coerce')"
      ],
      "metadata": {
        "colab": {
          "base_uri": "https://localhost:8080/"
        },
        "id": "3rwhzBq6hBwN",
        "outputId": "3885a316-5ef0-462d-bc0f-770d32e2ee13"
      },
      "execution_count": null,
      "outputs": [
        {
          "output_type": "stream",
          "name": "stderr",
          "text": [
            "<ipython-input-13-5da5b961dcdb>:2: SettingWithCopyWarning: \n",
            "A value is trying to be set on a copy of a slice from a DataFrame.\n",
            "Try using .loc[row_indexer,col_indexer] = value instead\n",
            "\n",
            "See the caveats in the documentation: https://pandas.pydata.org/pandas-docs/stable/user_guide/indexing.html#returning-a-view-versus-a-copy\n",
            "  df_films['startYear'] = pd.to_numeric(df_films['startYear'], errors='coerce')\n",
            "<ipython-input-13-5da5b961dcdb>:3: SettingWithCopyWarning: \n",
            "A value is trying to be set on a copy of a slice from a DataFrame.\n",
            "Try using .loc[row_indexer,col_indexer] = value instead\n",
            "\n",
            "See the caveats in the documentation: https://pandas.pydata.org/pandas-docs/stable/user_guide/indexing.html#returning-a-view-versus-a-copy\n",
            "  df_films['endYear'] = pd.to_numeric(df_films['endYear'], errors='coerce')\n",
            "<ipython-input-13-5da5b961dcdb>:4: SettingWithCopyWarning: \n",
            "A value is trying to be set on a copy of a slice from a DataFrame.\n",
            "Try using .loc[row_indexer,col_indexer] = value instead\n",
            "\n",
            "See the caveats in the documentation: https://pandas.pydata.org/pandas-docs/stable/user_guide/indexing.html#returning-a-view-versus-a-copy\n",
            "  df_films['runtimeMinutes'] = pd.to_numeric(df_films['runtimeMinutes'], errors='coerce')\n"
          ]
        }
      ]
    },
    {
      "cell_type": "code",
      "source": [
        "# Convertir les colonnes en numériques avec .loc[] pour éviter le warning\n",
        "df_films.loc[:, 'startYear'] = pd.to_numeric(df_films['startYear'], errors='coerce')\n",
        "df_films.loc[:, 'endYear'] = pd.to_numeric(df_films['endYear'], errors='coerce')\n",
        "df_films.loc[:, 'runtimeMinutes'] = pd.to_numeric(df_films['runtimeMinutes'], errors='coerce')\n"
      ],
      "metadata": {
        "id": "x1NILwBmhCXZ"
      },
      "execution_count": null,
      "outputs": []
    },
    {
      "cell_type": "code",
      "source": [
        "# Convertir 'isAdult' en booléen (0 = False, 1 = True)\n",
        "df_films['isAdult'] = df_films['isAdult'].astype(bool)"
      ],
      "metadata": {
        "colab": {
          "base_uri": "https://localhost:8080/"
        },
        "collapsed": true,
        "id": "EXRLKNt4hHHr",
        "outputId": "a162ac9d-36ef-465b-da0c-87aa7772ba0c"
      },
      "execution_count": null,
      "outputs": [
        {
          "output_type": "stream",
          "name": "stderr",
          "text": [
            "<ipython-input-15-d9c65bc0b866>:2: SettingWithCopyWarning: \n",
            "A value is trying to be set on a copy of a slice from a DataFrame.\n",
            "Try using .loc[row_indexer,col_indexer] = value instead\n",
            "\n",
            "See the caveats in the documentation: https://pandas.pydata.org/pandas-docs/stable/user_guide/indexing.html#returning-a-view-versus-a-copy\n",
            "  df_films['isAdult'] = df_films['isAdult'].astype(bool)\n"
          ]
        }
      ]
    },
    {
      "cell_type": "code",
      "source": [
        "# Convertir 'isAdult' en booléen (0 = False, 1 = True)\n",
        "df_films.loc[:, 'isAdult'] = df_films['isAdult'].astype(int) == 1\n"
      ],
      "metadata": {
        "id": "vjKU-8vRkJR8"
      },
      "execution_count": null,
      "outputs": []
    },
    {
      "cell_type": "code",
      "source": [
        "# Supprimer les films sans durée valide (runtimeMinutes NaN)\n",
        "df_films_cleaned = df_films.dropna(subset=['runtimeMinutes'])"
      ],
      "metadata": {
        "id": "aDDLVf6KhIHJ"
      },
      "execution_count": null,
      "outputs": []
    },
    {
      "cell_type": "code",
      "source": [
        "# Afficher les premières lignes du dataset nettoyé\n",
        "print(df_films_cleaned.head().to_markdown())"
      ],
      "metadata": {
        "colab": {
          "base_uri": "https://localhost:8080/"
        },
        "id": "C5DmOITWhKwE",
        "outputId": "8d697c4b-4c82-49e1-be1e-796a384ac227"
      },
      "execution_count": null,
      "outputs": [
        {
          "output_type": "stream",
          "name": "stdout",
          "text": [
            "|     | tconst    | titleType   | primaryTitle                  | originalTitle                 | isAdult   |   startYear | endYear   |   runtimeMinutes | genres                     |\n",
            "|----:|:----------|:------------|:------------------------------|:------------------------------|:----------|------------:|:----------|-----------------:|:---------------------------|\n",
            "|   8 | tt0000009 | movie       | Miss Jerry                    | Miss Jerry                    | False     |        1894 | \\N        |               45 | Romance                    |\n",
            "| 144 | tt0000147 | movie       | The Corbett-Fitzsimmons Fight | The Corbett-Fitzsimmons Fight | False     |        1897 | \\N        |              100 | Documentary,News,Sport     |\n",
            "| 498 | tt0000502 | movie       | Bohemios                      | Bohemios                      | False     |        1905 | \\N        |              100 | \\N                         |\n",
            "| 570 | tt0000574 | movie       | The Story of the Kelly Gang   | The Story of the Kelly Gang   | False     |        1906 | \\N        |               70 | Action,Adventure,Biography |\n",
            "| 587 | tt0000591 | movie       | The Prodigal Son              | L'enfant prodigue             | False     |        1907 | \\N        |               90 | Drama                      |\n"
          ]
        }
      ]
    },
    {
      "cell_type": "code",
      "source": [
        "# Afficher le résumé des types de données après nettoyage\n",
        "print(df_films_cleaned.dtypes)"
      ],
      "metadata": {
        "colab": {
          "base_uri": "https://localhost:8080/"
        },
        "id": "NfE3VDf1hNbd",
        "outputId": "df90b91f-52b7-423b-8fc4-a5f5b17f929b"
      },
      "execution_count": null,
      "outputs": [
        {
          "output_type": "stream",
          "name": "stdout",
          "text": [
            "tconst            object\n",
            "titleType         object\n",
            "primaryTitle      object\n",
            "originalTitle     object\n",
            "isAdult           object\n",
            "startYear         object\n",
            "endYear           object\n",
            "runtimeMinutes    object\n",
            "genres            object\n",
            "dtype: object\n"
          ]
        }
      ]
    },
    {
      "cell_type": "code",
      "source": [
        "# Vérifier les valeurs manquantes restantes\n",
        "print(df_films_cleaned.isnull().sum())"
      ],
      "metadata": {
        "colab": {
          "base_uri": "https://localhost:8080/"
        },
        "id": "ks8TeBNchPoQ",
        "outputId": "b5bb2835-44a9-4bcf-ab55-dd11e01672c7"
      },
      "execution_count": null,
      "outputs": [
        {
          "output_type": "stream",
          "name": "stdout",
          "text": [
            "tconst            0\n",
            "titleType         0\n",
            "primaryTitle      2\n",
            "originalTitle     2\n",
            "isAdult           0\n",
            "startYear         0\n",
            "endYear           0\n",
            "runtimeMinutes    0\n",
            "genres            0\n",
            "dtype: int64\n"
          ]
        }
      ]
    },
    {
      "cell_type": "code",
      "source": [
        "df_films_cleaned.info()"
      ],
      "metadata": {
        "colab": {
          "base_uri": "https://localhost:8080/"
        },
        "id": "0nR19hoklJJp",
        "outputId": "95b25c1b-1de7-4ae2-dce6-d34259c0b484"
      },
      "execution_count": null,
      "outputs": [
        {
          "output_type": "stream",
          "name": "stdout",
          "text": [
            "<class 'pandas.core.frame.DataFrame'>\n",
            "Index: 698552 entries, 8 to 11270669\n",
            "Data columns (total 9 columns):\n",
            " #   Column          Non-Null Count   Dtype \n",
            "---  ------          --------------   ----- \n",
            " 0   tconst          698552 non-null  object\n",
            " 1   titleType       698552 non-null  object\n",
            " 2   primaryTitle    698550 non-null  object\n",
            " 3   originalTitle   698550 non-null  object\n",
            " 4   isAdult         698552 non-null  object\n",
            " 5   startYear       698552 non-null  object\n",
            " 6   endYear         698552 non-null  object\n",
            " 7   runtimeMinutes  698552 non-null  object\n",
            " 8   genres          698552 non-null  object\n",
            "dtypes: object(9)\n",
            "memory usage: 53.3+ MB\n"
          ]
        }
      ]
    },
    {
      "cell_type": "code",
      "source": [
        "df_films_cleaned = df_films_cleaned.drop('endYear', axis=1)\n",
        "\n"
      ],
      "metadata": {
        "id": "fo1sysJNlOhJ"
      },
      "execution_count": null,
      "outputs": []
    },
    {
      "cell_type": "code",
      "source": [],
      "metadata": {
        "id": "0YaesTssnqEr"
      },
      "execution_count": null,
      "outputs": []
    },
    {
      "cell_type": "code",
      "source": [
        "df_films_cleaned.info()"
      ],
      "metadata": {
        "colab": {
          "base_uri": "https://localhost:8080/"
        },
        "id": "LWdSD4bOnH_g",
        "outputId": "8bdd88c9-ee96-461f-cd04-506a25b5d081"
      },
      "execution_count": null,
      "outputs": [
        {
          "output_type": "stream",
          "name": "stdout",
          "text": [
            "<class 'pandas.core.frame.DataFrame'>\n",
            "Index: 698552 entries, 8 to 11270669\n",
            "Data columns (total 9 columns):\n",
            " #   Column          Non-Null Count   Dtype \n",
            "---  ------          --------------   ----- \n",
            " 0   tconst          698552 non-null  object\n",
            " 1   titleType       698552 non-null  object\n",
            " 2   primaryTitle    698550 non-null  object\n",
            " 3   originalTitle   698550 non-null  object\n",
            " 4   isAdult         698552 non-null  object\n",
            " 5   startYear       698552 non-null  object\n",
            " 6   endYear         698552 non-null  object\n",
            " 7   runtimeMinutes  698552 non-null  object\n",
            " 8   genres          698552 non-null  object\n",
            "dtypes: object(9)\n",
            "memory usage: 53.3+ MB\n"
          ]
        }
      ]
    },
    {
      "cell_type": "code",
      "source": [
        "d3 = df_films_cleaned\n",
        "print(d3.info())\n"
      ],
      "metadata": {
        "colab": {
          "base_uri": "https://localhost:8080/"
        },
        "id": "IEdVY0LQu1b2",
        "outputId": "209b9e5c-30b7-4e7f-e67d-37a97f22c773"
      },
      "execution_count": null,
      "outputs": [
        {
          "output_type": "stream",
          "name": "stdout",
          "text": [
            "<class 'pandas.core.frame.DataFrame'>\n",
            "Index: 698552 entries, 8 to 11270669\n",
            "Data columns (total 9 columns):\n",
            " #   Column          Non-Null Count   Dtype \n",
            "---  ------          --------------   ----- \n",
            " 0   tconst          698552 non-null  object\n",
            " 1   titleType       698552 non-null  object\n",
            " 2   primaryTitle    698550 non-null  object\n",
            " 3   originalTitle   698550 non-null  object\n",
            " 4   isAdult         698552 non-null  object\n",
            " 5   startYear       698552 non-null  object\n",
            " 6   endYear         698552 non-null  object\n",
            " 7   runtimeMinutes  698552 non-null  object\n",
            " 8   genres          698552 non-null  object\n",
            "dtypes: object(9)\n",
            "memory usage: 53.3+ MB\n",
            "None\n"
          ]
        }
      ]
    },
    {
      "cell_type": "code",
      "source": [],
      "metadata": {
        "id": "NJFwDBEcvcmM"
      },
      "execution_count": null,
      "outputs": []
    }
  ]
}