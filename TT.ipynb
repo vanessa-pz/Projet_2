{
 "cells": [
  {
   "cell_type": "code",
   "execution_count": 1,
   "metadata": {},
   "outputs": [
    {
     "name": "stdout",
     "output_type": "stream",
     "text": [
      "Chunk 1:\n"
     ]
    },
    {
     "data": {
      "text/html": [
       "<div>\n",
       "<style scoped>\n",
       "    .dataframe tbody tr th:only-of-type {\n",
       "        vertical-align: middle;\n",
       "    }\n",
       "\n",
       "    .dataframe tbody tr th {\n",
       "        vertical-align: top;\n",
       "    }\n",
       "\n",
       "    .dataframe thead th {\n",
       "        text-align: right;\n",
       "    }\n",
       "</style>\n",
       "<table border=\"1\" class=\"dataframe\">\n",
       "  <thead>\n",
       "    <tr style=\"text-align: right;\">\n",
       "      <th></th>\n",
       "      <th>titleId</th>\n",
       "      <th>ordering</th>\n",
       "      <th>title</th>\n",
       "      <th>region</th>\n",
       "      <th>language</th>\n",
       "      <th>types</th>\n",
       "      <th>attributes</th>\n",
       "      <th>isOriginalTitle</th>\n",
       "    </tr>\n",
       "  </thead>\n",
       "  <tbody>\n",
       "    <tr>\n",
       "      <th>0</th>\n",
       "      <td>tt0000001</td>\n",
       "      <td>1</td>\n",
       "      <td>Carmencita</td>\n",
       "      <td>NaN</td>\n",
       "      <td>NaN</td>\n",
       "      <td>original</td>\n",
       "      <td>NaN</td>\n",
       "      <td>1</td>\n",
       "    </tr>\n",
       "    <tr>\n",
       "      <th>1</th>\n",
       "      <td>tt0000001</td>\n",
       "      <td>2</td>\n",
       "      <td>Carmencita</td>\n",
       "      <td>DE</td>\n",
       "      <td>NaN</td>\n",
       "      <td>NaN</td>\n",
       "      <td>literal title</td>\n",
       "      <td>0</td>\n",
       "    </tr>\n",
       "    <tr>\n",
       "      <th>2</th>\n",
       "      <td>tt0000001</td>\n",
       "      <td>3</td>\n",
       "      <td>Carmencita</td>\n",
       "      <td>US</td>\n",
       "      <td>NaN</td>\n",
       "      <td>imdbDisplay</td>\n",
       "      <td>NaN</td>\n",
       "      <td>0</td>\n",
       "    </tr>\n",
       "    <tr>\n",
       "      <th>3</th>\n",
       "      <td>tt0000001</td>\n",
       "      <td>4</td>\n",
       "      <td>Carmencita - spanyol tánc</td>\n",
       "      <td>HU</td>\n",
       "      <td>NaN</td>\n",
       "      <td>imdbDisplay</td>\n",
       "      <td>NaN</td>\n",
       "      <td>0</td>\n",
       "    </tr>\n",
       "    <tr>\n",
       "      <th>4</th>\n",
       "      <td>tt0000001</td>\n",
       "      <td>5</td>\n",
       "      <td>Καρμενσίτα</td>\n",
       "      <td>GR</td>\n",
       "      <td>NaN</td>\n",
       "      <td>imdbDisplay</td>\n",
       "      <td>NaN</td>\n",
       "      <td>0</td>\n",
       "    </tr>\n",
       "  </tbody>\n",
       "</table>\n",
       "</div>"
      ],
      "text/plain": [
       "     titleId  ordering                      title region language  \\\n",
       "0  tt0000001         1                 Carmencita    NaN      NaN   \n",
       "1  tt0000001         2                 Carmencita     DE      NaN   \n",
       "2  tt0000001         3                 Carmencita     US      NaN   \n",
       "3  tt0000001         4  Carmencita - spanyol tánc     HU      NaN   \n",
       "4  tt0000001         5                 Καρμενσίτα     GR      NaN   \n",
       "\n",
       "         types     attributes  isOriginalTitle  \n",
       "0     original            NaN                1  \n",
       "1          NaN  literal title                0  \n",
       "2  imdbDisplay            NaN                0  \n",
       "3  imdbDisplay            NaN                0  \n",
       "4  imdbDisplay            NaN                0  "
      ]
     },
     "metadata": {},
     "output_type": "display_data"
    }
   ],
   "source": [
    "import pandas as pd\n",
    "# URL du fichier compressé\n",
    "url = \"https://datasets.imdbws.com/title.akas.tsv.gz\"\n",
    "# Lire le fichier par morceaux\n",
    "chunksize = 10000  # Nombre de lignes à lire par morceau\n",
    "reader = pd.read_csv(url, sep='\\t', na_values=[\"\\\\N\", \"NaN\", \"\"], chunksize=chunksize)\n",
    "# Parcourir les morceaux et afficher les 5 premières lignes de chaque morceau\n",
    "for i, chunk in enumerate(reader):\n",
    "    print(f\"Chunk {i+1}:\")\n",
    "    display(chunk.head(5))\n",
    "    if i == 0:  # Afficher uniquement le premier morceau\n",
    "        break"
   ]
  },
  {
   "cell_type": "code",
   "execution_count": 6,
   "metadata": {},
   "outputs": [
    {
     "name": "stderr",
     "output_type": "stream",
     "text": [
      "C:\\Users\\dassi\\AppData\\Local\\Temp\\ipykernel_24928\\3268229905.py:7: DtypeWarning: Columns (6) have mixed types. Specify dtype option on import or set low_memory=False.\n",
      "  for chunk in pd.read_csv(url, sep='\\t', na_values=[\"\\\\N\", \"NaN\", \"\"], chunksize=chunksize):\n",
      "C:\\Users\\dassi\\AppData\\Local\\Temp\\ipykernel_24928\\3268229905.py:7: DtypeWarning: Columns (6) have mixed types. Specify dtype option on import or set low_memory=False.\n",
      "  for chunk in pd.read_csv(url, sep='\\t', na_values=[\"\\\\N\", \"NaN\", \"\"], chunksize=chunksize):\n",
      "C:\\Users\\dassi\\AppData\\Local\\Temp\\ipykernel_24928\\3268229905.py:7: DtypeWarning: Columns (6) have mixed types. Specify dtype option on import or set low_memory=False.\n",
      "  for chunk in pd.read_csv(url, sep='\\t', na_values=[\"\\\\N\", \"NaN\", \"\"], chunksize=chunksize):\n",
      "C:\\Users\\dassi\\AppData\\Local\\Temp\\ipykernel_24928\\3268229905.py:7: DtypeWarning: Columns (6) have mixed types. Specify dtype option on import or set low_memory=False.\n",
      "  for chunk in pd.read_csv(url, sep='\\t', na_values=[\"\\\\N\", \"NaN\", \"\"], chunksize=chunksize):\n",
      "C:\\Users\\dassi\\AppData\\Local\\Temp\\ipykernel_24928\\3268229905.py:7: DtypeWarning: Columns (6) have mixed types. Specify dtype option on import or set low_memory=False.\n",
      "  for chunk in pd.read_csv(url, sep='\\t', na_values=[\"\\\\N\", \"NaN\", \"\"], chunksize=chunksize):\n",
      "C:\\Users\\dassi\\AppData\\Local\\Temp\\ipykernel_24928\\3268229905.py:7: DtypeWarning: Columns (6) have mixed types. Specify dtype option on import or set low_memory=False.\n",
      "  for chunk in pd.read_csv(url, sep='\\t', na_values=[\"\\\\N\", \"NaN\", \"\"], chunksize=chunksize):\n",
      "C:\\Users\\dassi\\AppData\\Local\\Temp\\ipykernel_24928\\3268229905.py:7: DtypeWarning: Columns (6) have mixed types. Specify dtype option on import or set low_memory=False.\n",
      "  for chunk in pd.read_csv(url, sep='\\t', na_values=[\"\\\\N\", \"NaN\", \"\"], chunksize=chunksize):\n"
     ]
    },
    {
     "name": "stdout",
     "output_type": "stream",
     "text": [
      "Empty DataFrame\n",
      "Columns: [titleId, title, region, language, types, isOriginalTitle]\n",
      "Index: []\n",
      "Nombre total de films en français après exclusion du Canada : 0\n"
     ]
    }
   ],
   "source": [
    "# Lire le fichier en morceaux\n",
    "url = \"title.akas.tsv.gz\"\n",
    "chunksize = 100000  # Nombre de lignes par morceau\n",
    "# Initialiser un DataFrame vide pour stocker les résultats filtrés\n",
    "filtered_df = pd.DataFrame()\n",
    "# Lecture et traitement par morceaux\n",
    "for chunk in pd.read_csv(url, sep='\\t', na_values=[\"\\\\N\", \"NaN\", \"\"], chunksize=chunksize):\n",
    "    # Étape 1 : Nettoyage\n",
    "    chunk = chunk.drop(columns=['ordering', 'attributes'], errors='ignore')\n",
    "    chunk = chunk.dropna(subset=['types', 'title', 'region', 'language'])\n",
    "    chunk = chunk.drop_duplicates()\n",
    "    # Étape 3 : Exclure les films provenant du Canada\n",
    "    chunk_fr = chunk_fr[chunk_fr['region'] == 'US']\n",
    "    # Étape 4 : Sélectionner les colonnes pertinentes\n",
    "    chunk_fr = chunk_fr[['titleId', 'title', 'region', 'language', 'types', 'isOriginalTitle']]\n",
    "    # Ajouter au DataFrame final\n",
    "    filtered_df = pd.concat([filtered_df, chunk_fr], ignore_index=True)\n",
    "# Étape 5 : Affichage des résultats finaux\n",
    "print(filtered_df.head(5))\n",
    "print(f\"Nombre total de films en français après exclusion du Canada : {len(filtered_df)}\")\n",
    "\n",
    "\n",
    "\n",
    "\n",
    "\n",
    "\n",
    "\n"
   ]
  }
 ],
 "metadata": {
  "kernelspec": {
   "display_name": "Python 3",
   "language": "python",
   "name": "python3"
  },
  "language_info": {
   "codemirror_mode": {
    "name": "ipython",
    "version": 3
   },
   "file_extension": ".py",
   "mimetype": "text/x-python",
   "name": "python",
   "nbconvert_exporter": "python",
   "pygments_lexer": "ipython3",
   "version": "3.13.0"
  }
 },
 "nbformat": 4,
 "nbformat_minor": 2
}
