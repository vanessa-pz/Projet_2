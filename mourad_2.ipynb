{
 "cells": [
  {
   "cell_type": "code",
   "execution_count": 11,
   "metadata": {
    "id": "qL82sCwXhNKp"
   },
   "outputs": [],
   "source": [
    "from datetime import datetime\n",
    "from datetime import timedelta\n",
    "import pandas as pd\n",
    "import seaborn as sns\n",
    "import matplotlib.pyplot as plt\n",
    "import numpy as np"
   ]
  },
  {
   "cell_type": "code",
   "execution_count": 12,
   "metadata": {
    "id": "Ed1zLkRMhSP1"
   },
   "outputs": [],
   "source": [
    "url = \"https://datasets.imdbws.com/name.basics.tsv.gz\"\n",
    "df1 = pd.read_csv(url, sep = '\\t')"
   ]
  },
  {
   "cell_type": "code",
   "execution_count": 13,
   "metadata": {
    "colab": {
     "base_uri": "https://localhost:8080/",
     "height": 206
    },
    "id": "KeJVlVo5ijG_",
    "outputId": "569e79ac-e954-4fe2-fa72-521e056946e9"
   },
   "outputs": [
    {
     "data": {
      "text/html": [
       "<div>\n",
       "<style scoped>\n",
       "    .dataframe tbody tr th:only-of-type {\n",
       "        vertical-align: middle;\n",
       "    }\n",
       "\n",
       "    .dataframe tbody tr th {\n",
       "        vertical-align: top;\n",
       "    }\n",
       "\n",
       "    .dataframe thead th {\n",
       "        text-align: right;\n",
       "    }\n",
       "</style>\n",
       "<table border=\"1\" class=\"dataframe\">\n",
       "  <thead>\n",
       "    <tr style=\"text-align: right;\">\n",
       "      <th></th>\n",
       "      <th>nconst</th>\n",
       "      <th>primaryName</th>\n",
       "      <th>birthYear</th>\n",
       "      <th>deathYear</th>\n",
       "      <th>primaryProfession</th>\n",
       "      <th>knownForTitles</th>\n",
       "    </tr>\n",
       "  </thead>\n",
       "  <tbody>\n",
       "    <tr>\n",
       "      <th>0</th>\n",
       "      <td>nm0000001</td>\n",
       "      <td>Fred Astaire</td>\n",
       "      <td>1899</td>\n",
       "      <td>1987</td>\n",
       "      <td>actor,miscellaneous,producer</td>\n",
       "      <td>tt0072308,tt0050419,tt0053137,tt0043044</td>\n",
       "    </tr>\n",
       "    <tr>\n",
       "      <th>1</th>\n",
       "      <td>nm0000002</td>\n",
       "      <td>Lauren Bacall</td>\n",
       "      <td>1924</td>\n",
       "      <td>2014</td>\n",
       "      <td>actress,soundtrack,archive_footage</td>\n",
       "      <td>tt0037382,tt0075213,tt0117057,tt0038355</td>\n",
       "    </tr>\n",
       "    <tr>\n",
       "      <th>2</th>\n",
       "      <td>nm0000003</td>\n",
       "      <td>Brigitte Bardot</td>\n",
       "      <td>1934</td>\n",
       "      <td>\\N</td>\n",
       "      <td>actress,music_department,producer</td>\n",
       "      <td>tt0057345,tt0049189,tt0056404,tt0054452</td>\n",
       "    </tr>\n",
       "    <tr>\n",
       "      <th>3</th>\n",
       "      <td>nm0000004</td>\n",
       "      <td>John Belushi</td>\n",
       "      <td>1949</td>\n",
       "      <td>1982</td>\n",
       "      <td>actor,writer,music_department</td>\n",
       "      <td>tt0072562,tt0077975,tt0080455,tt0078723</td>\n",
       "    </tr>\n",
       "    <tr>\n",
       "      <th>4</th>\n",
       "      <td>nm0000005</td>\n",
       "      <td>Ingmar Bergman</td>\n",
       "      <td>1918</td>\n",
       "      <td>2007</td>\n",
       "      <td>writer,director,actor</td>\n",
       "      <td>tt0050986,tt0069467,tt0050976,tt0083922</td>\n",
       "    </tr>\n",
       "  </tbody>\n",
       "</table>\n",
       "</div>"
      ],
      "text/plain": [
       "      nconst      primaryName birthYear deathYear  \\\n",
       "0  nm0000001     Fred Astaire      1899      1987   \n",
       "1  nm0000002    Lauren Bacall      1924      2014   \n",
       "2  nm0000003  Brigitte Bardot      1934        \\N   \n",
       "3  nm0000004     John Belushi      1949      1982   \n",
       "4  nm0000005   Ingmar Bergman      1918      2007   \n",
       "\n",
       "                    primaryProfession                           knownForTitles  \n",
       "0        actor,miscellaneous,producer  tt0072308,tt0050419,tt0053137,tt0043044  \n",
       "1  actress,soundtrack,archive_footage  tt0037382,tt0075213,tt0117057,tt0038355  \n",
       "2   actress,music_department,producer  tt0057345,tt0049189,tt0056404,tt0054452  \n",
       "3       actor,writer,music_department  tt0072562,tt0077975,tt0080455,tt0078723  \n",
       "4               writer,director,actor  tt0050986,tt0069467,tt0050976,tt0083922  "
      ]
     },
     "execution_count": 13,
     "metadata": {},
     "output_type": "execute_result"
    }
   ],
   "source": [
    "df1.head()"
   ]
  },
  {
   "cell_type": "code",
   "execution_count": 14,
   "metadata": {
    "colab": {
     "base_uri": "https://localhost:8080/"
    },
    "id": "vBe4Pyx2NeP6",
    "outputId": "caa4da01-7df5-41e8-c7b4-3cf20e7cb928"
   },
   "outputs": [
    {
     "data": {
      "text/plain": [
       "(14013602, 6)"
      ]
     },
     "execution_count": 14,
     "metadata": {},
     "output_type": "execute_result"
    }
   ],
   "source": [
    "df1.shape"
   ]
  },
  {
   "cell_type": "code",
   "execution_count": 15,
   "metadata": {
    "colab": {
     "base_uri": "https://localhost:8080/",
     "height": 272
    },
    "id": "NGL_qH4zi9Qf",
    "outputId": "363a3e71-3c04-415c-ea34-d85f066b4fc9"
   },
   "outputs": [
    {
     "data": {
      "text/plain": [
       "nconst               0\n",
       "primaryName          9\n",
       "birthYear            0\n",
       "deathYear            0\n",
       "primaryProfession    0\n",
       "knownForTitles       0\n",
       "dtype: int64"
      ]
     },
     "execution_count": 15,
     "metadata": {},
     "output_type": "execute_result"
    }
   ],
   "source": [
    "#afficher le nombre de valeurs manquantes par colonne\n",
    "df1.isna().sum()\n"
   ]
  },
  {
   "cell_type": "code",
   "execution_count": 16,
   "metadata": {
    "colab": {
     "base_uri": "https://localhost:8080/",
     "height": 272
    },
    "id": "hmsW5ZzEl5BR",
    "outputId": "e938f1d7-fb22-457f-e3c8-64922ea1606f"
   },
   "outputs": [
    {
     "data": {
      "text/plain": [
       "nconst                      0\n",
       "primaryName                50\n",
       "birthYear            13380365\n",
       "deathYear            13776109\n",
       "primaryProfession     2720840\n",
       "knownForTitles        1586468\n",
       "dtype: int64"
      ]
     },
     "execution_count": 16,
     "metadata": {},
     "output_type": "execute_result"
    }
   ],
   "source": [
    "#afficher le nombre de valeurs \\N  par colonne\n",
    "(df1 == '\\\\N').sum()\n"
   ]
  },
  {
   "cell_type": "code",
   "execution_count": 17,
   "metadata": {
    "id": "tUXGW1i1mcQL"
   },
   "outputs": [],
   "source": [
    "df1.replace('\\\\N', np.nan, inplace=True)\n"
   ]
  },
  {
   "cell_type": "code",
   "execution_count": 18,
   "metadata": {
    "colab": {
     "base_uri": "https://localhost:8080/",
     "height": 272
    },
    "id": "e0mEhCa2mkXG",
    "outputId": "9fe87156-c58d-44e4-c7bb-98711d3d467c"
   },
   "outputs": [
    {
     "data": {
      "text/plain": [
       "nconst                      0\n",
       "primaryName                59\n",
       "birthYear            13380365\n",
       "deathYear            13776109\n",
       "primaryProfession     2720840\n",
       "knownForTitles        1586468\n",
       "dtype: int64"
      ]
     },
     "execution_count": 18,
     "metadata": {},
     "output_type": "execute_result"
    }
   ],
   "source": [
    "#remplacer les valeurs \\N par des NaN dans tout le DataFrame\n",
    "df1.isna().sum()\n"
   ]
  },
  {
   "cell_type": "code",
   "execution_count": 19,
   "metadata": {
    "colab": {
     "base_uri": "https://localhost:8080/"
    },
    "id": "ujnK8fpVoTbW",
    "outputId": "79456b97-8d55-4438-9c5a-09ee8e7de376"
   },
   "outputs": [
    {
     "data": {
      "text/plain": [
       "(14013543, 6)"
      ]
     },
     "execution_count": 19,
     "metadata": {},
     "output_type": "execute_result"
    }
   ],
   "source": [
    "# nous avons 59 primaryname qui manquent, on va les supprimer, sans nom on ne peut rien faire\n",
    "df1 = df1[df1['primaryName'].notna()]\n",
    "df1.shape\n"
   ]
  },
  {
   "cell_type": "code",
   "execution_count": 20,
   "metadata": {
    "id": "wxEd976S2va1"
   },
   "outputs": [],
   "source": [
    "#convertir les colonnes dates qui sont en objet au type float\n",
    "df1['birthYear'] = pd.to_numeric(df1['birthYear'], errors='coerce')\n",
    "df1['deathYear'] = pd.to_numeric(df1['deathYear'], errors='coerce')\n"
   ]
  },
  {
   "cell_type": "code",
   "execution_count": 21,
   "metadata": {
    "colab": {
     "base_uri": "https://localhost:8080/",
     "height": 147
    },
    "id": "rkpHqpGg23T3",
    "outputId": "31b99d5f-eaf4-45e7-ab8e-7589fb004795"
   },
   "outputs": [
    {
     "data": {
      "text/plain": [
       "birthYear    float64\n",
       "deathYear    float64\n",
       "dtype: object"
      ]
     },
     "execution_count": 21,
     "metadata": {},
     "output_type": "execute_result"
    }
   ],
   "source": [
    "df1[['birthYear', 'deathYear']].dtypes"
   ]
  },
  {
   "cell_type": "code",
   "execution_count": 22,
   "metadata": {
    "id": "24f2CtREAt8z"
   },
   "outputs": [],
   "source": [
    "# Vérifier les doublons dans la colonne 'primaryName'\n",
    "doublons = df1[df1.duplicated(subset=['primaryName'], keep=False)]\n",
    "\n",
    "\n"
   ]
  },
  {
   "cell_type": "code",
   "execution_count": 23,
   "metadata": {
    "id": "4G7MUBmQAxr2"
   },
   "outputs": [],
   "source": [
    "# Supprimer les doublons en gardant la première occurrence\n",
    "df1 = df1.drop_duplicates(subset=['primaryName'], keep='first')\n"
   ]
  },
  {
   "cell_type": "code",
   "execution_count": 24,
   "metadata": {
    "id": "k8CSnAWlGmFJ"
   },
   "outputs": [],
   "source": [
    "# Créer un nouveau DataFrame sans les lignes où 'primaryProfession' est NaN\n",
    "df1_cleaned = df1.dropna(subset=['primaryProfession'])\n",
    "\n"
   ]
  },
  {
   "cell_type": "code",
   "execution_count": 25,
   "metadata": {
    "id": "PjBg2w3oHA82"
   },
   "outputs": [],
   "source": [
    "df1_cleaned = df1_cleaned.dropna(subset=['primaryName'])\n"
   ]
  },
  {
   "cell_type": "code",
   "execution_count": 26,
   "metadata": {
    "colab": {
     "base_uri": "https://localhost:8080/"
    },
    "id": "-UXCyr3LPN4A",
    "outputId": "41388600-7e62-42a5-a3d1-7e342d3c554a"
   },
   "outputs": [
    {
     "name": "stdout",
     "output_type": "stream",
     "text": [
      "['actor' 'miscellaneous' 'producer' 'actress' 'soundtrack'\n",
      " 'archive_footage' 'music_department' 'writer' 'director' 'stunts'\n",
      " 'make_up_department' 'composer' 'assistant_director' 'camera_department'\n",
      " 'music_artist' 'art_department' 'editor' 'cinematographer'\n",
      " 'casting_director' 'executive' 'visual_effects' 'costume_designer'\n",
      " 'script_department' 'editorial_department' 'costume_department'\n",
      " 'animation_department' 'talent_agent' 'archive_sound'\n",
      " 'production_designer' 'special_effects' 'production_manager'\n",
      " 'art_director' 'sound_department' 'casting_department'\n",
      " 'location_management' 'set_decorator' 'transportation_department'\n",
      " 'choreographer' 'legal' 'manager' 'podcaster' 'publicist' 'assistant'\n",
      " 'production_department' 'accountant' 'electrical_department']\n"
     ]
    }
   ],
   "source": [
    "# Séparer les professions dans chaque ligne et extraire les valeurs uniques\n",
    "professions = df1_cleaned['primaryProfession'].dropna().str.split(',').explode().unique()\n",
    "print(professions)\n"
   ]
  },
  {
   "cell_type": "code",
   "execution_count": 27,
   "metadata": {
    "colab": {
     "base_uri": "https://localhost:8080/"
    },
    "id": "F0oEkAc9PwWJ",
    "outputId": "905d2f83-091c-40f5-b764-8c78e2341e2b"
   },
   "outputs": [
    {
     "name": "stdout",
     "output_type": "stream",
     "text": [
      "['accountant', 'actor', 'actress', 'animation_department', 'archive_footage', 'archive_sound', 'art_department', 'art_director', 'assistant', 'assistant_director', 'camera_department', 'casting_department', 'casting_director', 'choreographer', 'cinematographer', 'composer', 'costume_department', 'costume_designer', 'director', 'editor', 'editorial_department', 'electrical_department', 'executive', 'legal', 'location_management', 'make_up_department', 'manager', 'miscellaneous', 'music_artist', 'music_department', 'podcaster', 'producer', 'production_department', 'production_designer', 'production_manager', 'publicist', 'script_department', 'set_decorator', 'sound_department', 'soundtrack', 'special_effects', 'stunts', 'talent_agent', 'transportation_department', 'visual_effects', 'writer']\n"
     ]
    }
   ],
   "source": [
    "# Tri des professions\n",
    "sorted_professions = sorted(professions)\n",
    "print(sorted_professions)\n"
   ]
  },
  {
   "cell_type": "code",
   "execution_count": 28,
   "metadata": {
    "colab": {
     "base_uri": "https://localhost:8080/"
    },
    "collapsed": true,
    "id": "EinApyZfPz4V",
    "outputId": "7a1d7f15-8547-49b7-a7b9-c9622a44fddb"
   },
   "outputs": [
    {
     "name": "stdout",
     "output_type": "stream",
     "text": [
      "primaryProfession\n",
      "actor                        2498014\n",
      "actress                      1654457\n",
      "miscellaneous                1110433\n",
      "producer                      945714\n",
      "writer                        739241\n",
      "director                      594697\n",
      "camera_department             592474\n",
      "art_department                384418\n",
      "cinematographer               299080\n",
      "sound_department              292132\n",
      "composer                      276814\n",
      "editor                        276677\n",
      "music_department              229983\n",
      "assistant_director            212115\n",
      "visual_effects                191017\n",
      "make_up_department            190233\n",
      "animation_department          181255\n",
      "production_manager            175770\n",
      "archive_footage               161448\n",
      "editorial_department          146923\n",
      "costume_department            135818\n",
      "soundtrack                    126723\n",
      "transportation_department      81051\n",
      "art_director                   77237\n",
      "script_department              73371\n",
      "stunts                         72284\n",
      "location_management            68730\n",
      "production_designer            67414\n",
      "costume_designer               66981\n",
      "special_effects                52468\n",
      "set_decorator                  46546\n",
      "casting_department             46412\n",
      "executive                      30601\n",
      "casting_director               26322\n",
      "manager                        11232\n",
      "talent_agent                   10270\n",
      "music_artist                    4402\n",
      "archive_sound                   4168\n",
      "legal                           3593\n",
      "publicist                       3466\n",
      "assistant                       2965\n",
      "podcaster                        523\n",
      "production_department            357\n",
      "choreographer                    236\n",
      "electrical_department             42\n",
      "accountant                        41\n",
      "Name: count, dtype: int64\n"
     ]
    }
   ],
   "source": [
    "profession_counts = df1_cleaned['primaryProfession'].dropna().str.split(',').explode().value_counts()\n",
    "print(profession_counts)\n"
   ]
  },
  {
   "cell_type": "code",
   "execution_count": 29,
   "metadata": {
    "id": "KKb_VigfHfKS"
   },
   "outputs": [],
   "source": [
    "# Filtrer pour garder uniquement les \"actor\", \"actress\" et \"director\"\n",
    "df1_cleaned = df1_cleaned[df1_cleaned['primaryProfession'].str.contains('actor|actress|director', na=False)]\n",
    "\n"
   ]
  },
  {
   "cell_type": "code",
   "execution_count": 31,
   "metadata": {
    "colab": {
     "base_uri": "https://localhost:8080/"
    },
    "id": "irXYV61tRQ4v",
    "outputId": "b6445b42-73b5-4a6d-9ee1-39ea9ce9aef3"
   },
   "outputs": [
    {
     "name": "stdout",
     "output_type": "stream",
     "text": [
      "      nconst      primaryName  birthYear  deathYear  \\\n",
      "0  nm0000001     Fred Astaire     1899.0     1987.0   \n",
      "1  nm0000002    Lauren Bacall     1924.0     2014.0   \n",
      "2  nm0000003  Brigitte Bardot     1934.0        NaN   \n",
      "3  nm0000004     John Belushi     1949.0     1982.0   \n",
      "4  nm0000005   Ingmar Bergman     1918.0     2007.0   \n",
      "\n",
      "                    primaryProfession                           knownForTitles  \n",
      "0        actor,miscellaneous,producer  tt0072308,tt0050419,tt0053137,tt0043044  \n",
      "1  actress,soundtrack,archive_footage  tt0037382,tt0075213,tt0117057,tt0038355  \n",
      "2   actress,music_department,producer  tt0057345,tt0049189,tt0056404,tt0054452  \n",
      "3       actor,writer,music_department  tt0072562,tt0077975,tt0080455,tt0078723  \n",
      "4               writer,director,actor  tt0050986,tt0069467,tt0050976,tt0083922  \n",
      "(4832802, 6)\n"
     ]
    }
   ],
   "source": [
    "print(df1_cleaned.head())\n",
    "print(df1_cleaned.shape)  # Nombre de lignes et colonnes après le filtrage\n"
   ]
  },
  {
   "cell_type": "code",
   "execution_count": 32,
   "metadata": {
    "id": "ELTPtm9-Nsro"
   },
   "outputs": [],
   "source": [
    "df1_cleaned.reset_index(drop=True, inplace=True)\n"
   ]
  },
  {
   "cell_type": "code",
   "execution_count": 34,
   "metadata": {
    "colab": {
     "base_uri": "https://localhost:8080/"
    },
    "id": "NvRu2aYoTQzn",
    "outputId": "b6387e42-d2ca-43e5-97df-29fac1b4f5ea"
   },
   "outputs": [
    {
     "name": "stdout",
     "output_type": "stream",
     "text": [
      "       nconst      primaryName  birthYear  deathYear  \\\n",
      "1   nm0000002    Lauren Bacall     1924.0     2014.0   \n",
      "2   nm0000003  Brigitte Bardot     1934.0        NaN   \n",
      "4   nm0000005   Ingmar Bergman     1918.0     2007.0   \n",
      "7   nm0000008    Marlon Brando     1924.0     2004.0   \n",
      "12  nm0000013        Doris Day     1922.0     2019.0   \n",
      "\n",
      "                     primaryProfession  \\\n",
      "1   actress,soundtrack,archive_footage   \n",
      "2    actress,music_department,producer   \n",
      "4                writer,director,actor   \n",
      "7                actor,director,writer   \n",
      "12      actress,producer,miscellaneous   \n",
      "\n",
      "                             knownForTitles  \n",
      "1   tt0037382,tt0075213,tt0117057,tt0038355  \n",
      "2   tt0057345,tt0049189,tt0056404,tt0054452  \n",
      "4   tt0050986,tt0069467,tt0050976,tt0083922  \n",
      "7   tt0078788,tt0068646,tt0047296,tt0070849  \n",
      "12  tt0048317,tt0045591,tt0053172,tt0055100  \n",
      "Nombre de lignes après filtrage : 337404\n"
     ]
    }
   ],
   "source": [
    "# Filtrer les lignes selon les critères\n",
    "df1_filtered = df1_cleaned[\n",
    "    (df1_cleaned['birthYear'] > 1900) &\n",
    "    ((df1_cleaned['deathYear'] > 1990) | (df1_cleaned['deathYear'].isna())) &\n",
    "    (df1_cleaned['birthYear'].notna())\n",
    "]\n",
    "\n",
    "# Afficher les premières lignes pour vérification\n",
    "print(df1_filtered.head())\n",
    "print(f\"Nombre de lignes après filtrage : {df1_filtered.shape[0]}\")\n"
   ]
  },
  {
   "cell_type": "code",
   "execution_count": 35,
   "metadata": {
    "colab": {
     "base_uri": "https://localhost:8080/",
     "height": 990
    },
    "id": "SCqoT40DT1xJ",
    "outputId": "155cb227-eaaa-4470-a1a5-6154f3287d78"
   },
   "outputs": [
    {
     "data": {
      "text/html": [
       "<div>\n",
       "<style scoped>\n",
       "    .dataframe tbody tr th:only-of-type {\n",
       "        vertical-align: middle;\n",
       "    }\n",
       "\n",
       "    .dataframe tbody tr th {\n",
       "        vertical-align: top;\n",
       "    }\n",
       "\n",
       "    .dataframe thead th {\n",
       "        text-align: right;\n",
       "    }\n",
       "</style>\n",
       "<table border=\"1\" class=\"dataframe\">\n",
       "  <thead>\n",
       "    <tr style=\"text-align: right;\">\n",
       "      <th></th>\n",
       "      <th>nconst</th>\n",
       "      <th>primaryName</th>\n",
       "      <th>birthYear</th>\n",
       "      <th>deathYear</th>\n",
       "      <th>primaryProfession</th>\n",
       "      <th>knownForTitles</th>\n",
       "    </tr>\n",
       "  </thead>\n",
       "  <tbody>\n",
       "    <tr>\n",
       "      <th>1</th>\n",
       "      <td>nm0000002</td>\n",
       "      <td>Lauren Bacall</td>\n",
       "      <td>1924.0</td>\n",
       "      <td>2014.0</td>\n",
       "      <td>actress,soundtrack,archive_footage</td>\n",
       "      <td>tt0037382,tt0075213,tt0117057,tt0038355</td>\n",
       "    </tr>\n",
       "    <tr>\n",
       "      <th>2</th>\n",
       "      <td>nm0000003</td>\n",
       "      <td>Brigitte Bardot</td>\n",
       "      <td>1934.0</td>\n",
       "      <td>NaN</td>\n",
       "      <td>actress,music_department,producer</td>\n",
       "      <td>tt0057345,tt0049189,tt0056404,tt0054452</td>\n",
       "    </tr>\n",
       "    <tr>\n",
       "      <th>4</th>\n",
       "      <td>nm0000005</td>\n",
       "      <td>Ingmar Bergman</td>\n",
       "      <td>1918.0</td>\n",
       "      <td>2007.0</td>\n",
       "      <td>writer,director,actor</td>\n",
       "      <td>tt0050986,tt0069467,tt0050976,tt0083922</td>\n",
       "    </tr>\n",
       "    <tr>\n",
       "      <th>7</th>\n",
       "      <td>nm0000008</td>\n",
       "      <td>Marlon Brando</td>\n",
       "      <td>1924.0</td>\n",
       "      <td>2004.0</td>\n",
       "      <td>actor,director,writer</td>\n",
       "      <td>tt0078788,tt0068646,tt0047296,tt0070849</td>\n",
       "    </tr>\n",
       "    <tr>\n",
       "      <th>12</th>\n",
       "      <td>nm0000013</td>\n",
       "      <td>Doris Day</td>\n",
       "      <td>1922.0</td>\n",
       "      <td>2019.0</td>\n",
       "      <td>actress,producer,miscellaneous</td>\n",
       "      <td>tt0048317,tt0045591,tt0053172,tt0055100</td>\n",
       "    </tr>\n",
       "    <tr>\n",
       "      <th>13</th>\n",
       "      <td>nm0000014</td>\n",
       "      <td>Olivia de Havilland</td>\n",
       "      <td>1916.0</td>\n",
       "      <td>2020.0</td>\n",
       "      <td>actress,soundtrack,archive_footage</td>\n",
       "      <td>tt0031381,tt0041452,tt0029843,tt0040806</td>\n",
       "    </tr>\n",
       "    <tr>\n",
       "      <th>15</th>\n",
       "      <td>nm0000016</td>\n",
       "      <td>Georges Delerue</td>\n",
       "      <td>1925.0</td>\n",
       "      <td>1992.0</td>\n",
       "      <td>composer,music_department,actor</td>\n",
       "      <td>tt0091763,tt0096320,tt0069946,tt0080610</td>\n",
       "    </tr>\n",
       "    <tr>\n",
       "      <th>16</th>\n",
       "      <td>nm0000017</td>\n",
       "      <td>Marlene Dietrich</td>\n",
       "      <td>1901.0</td>\n",
       "      <td>1992.0</td>\n",
       "      <td>actress,music_department,soundtrack</td>\n",
       "      <td>tt0051201,tt0055031,tt0052311,tt0021156</td>\n",
       "    </tr>\n",
       "    <tr>\n",
       "      <th>17</th>\n",
       "      <td>nm0000018</td>\n",
       "      <td>Kirk Douglas</td>\n",
       "      <td>1916.0</td>\n",
       "      <td>2020.0</td>\n",
       "      <td>actor,producer,director</td>\n",
       "      <td>tt0080736,tt0054331,tt0049456,tt0050825</td>\n",
       "    </tr>\n",
       "    <tr>\n",
       "      <th>18</th>\n",
       "      <td>nm0000019</td>\n",
       "      <td>Federico Fellini</td>\n",
       "      <td>1920.0</td>\n",
       "      <td>1993.0</td>\n",
       "      <td>writer,director,actor</td>\n",
       "      <td>tt0056801,tt0047528,tt0071129,tt0050783</td>\n",
       "    </tr>\n",
       "    <tr>\n",
       "      <th>20</th>\n",
       "      <td>nm0000021</td>\n",
       "      <td>Joan Fontaine</td>\n",
       "      <td>1917.0</td>\n",
       "      <td>2013.0</td>\n",
       "      <td>actress,producer,soundtrack</td>\n",
       "      <td>tt0034248,tt0032976,tt0035751,tt0036969</td>\n",
       "    </tr>\n",
       "    <tr>\n",
       "      <th>23</th>\n",
       "      <td>nm0000024</td>\n",
       "      <td>John Gielgud</td>\n",
       "      <td>1904.0</td>\n",
       "      <td>2000.0</td>\n",
       "      <td>actor,director,writer</td>\n",
       "      <td>tt0082031,tt0071877,tt0045943,tt0117631</td>\n",
       "    </tr>\n",
       "    <tr>\n",
       "      <th>25</th>\n",
       "      <td>nm0000027</td>\n",
       "      <td>Alec Guinness</td>\n",
       "      <td>1914.0</td>\n",
       "      <td>2000.0</td>\n",
       "      <td>actor,writer,soundtrack</td>\n",
       "      <td>tt0076759,tt0050212,tt0041546,tt0051739</td>\n",
       "    </tr>\n",
       "    <tr>\n",
       "      <th>27</th>\n",
       "      <td>nm0000029</td>\n",
       "      <td>Margaux Hemingway</td>\n",
       "      <td>1954.0</td>\n",
       "      <td>1996.0</td>\n",
       "      <td>actress,miscellaneous,archive_footage</td>\n",
       "      <td>tt0077800,tt0102122,tt0110138,tt0074802</td>\n",
       "    </tr>\n",
       "    <tr>\n",
       "      <th>28</th>\n",
       "      <td>nm0000030</td>\n",
       "      <td>Audrey Hepburn</td>\n",
       "      <td>1929.0</td>\n",
       "      <td>1993.0</td>\n",
       "      <td>actress,soundtrack,archive_footage</td>\n",
       "      <td>tt0054698,tt0046250,tt0056923,tt0058385</td>\n",
       "    </tr>\n",
       "    <tr>\n",
       "      <th>29</th>\n",
       "      <td>nm0000031</td>\n",
       "      <td>Katharine Hepburn</td>\n",
       "      <td>1907.0</td>\n",
       "      <td>2003.0</td>\n",
       "      <td>actress,writer,soundtrack</td>\n",
       "      <td>tt0063227,tt0082846,tt0032904,tt0043265</td>\n",
       "    </tr>\n",
       "    <tr>\n",
       "      <th>30</th>\n",
       "      <td>nm0000032</td>\n",
       "      <td>Charlton Heston</td>\n",
       "      <td>1923.0</td>\n",
       "      <td>2008.0</td>\n",
       "      <td>actor,director,writer</td>\n",
       "      <td>tt0052618,tt0049833,tt0070723,tt0067525</td>\n",
       "    </tr>\n",
       "    <tr>\n",
       "      <th>33</th>\n",
       "      <td>nm0000035</td>\n",
       "      <td>James Horner</td>\n",
       "      <td>1953.0</td>\n",
       "      <td>2015.0</td>\n",
       "      <td>music_department,composer,actor</td>\n",
       "      <td>tt0120338,tt0499549,tt0177971,tt0120746</td>\n",
       "    </tr>\n",
       "    <tr>\n",
       "      <th>35</th>\n",
       "      <td>nm0000037</td>\n",
       "      <td>Gene Kelly</td>\n",
       "      <td>1912.0</td>\n",
       "      <td>1996.0</td>\n",
       "      <td>actor,miscellaneous,director</td>\n",
       "      <td>tt0045152,tt0043278,tt0053946,tt0041716</td>\n",
       "    </tr>\n",
       "    <tr>\n",
       "      <th>37</th>\n",
       "      <td>nm0000039</td>\n",
       "      <td>Deborah Kerr</td>\n",
       "      <td>1921.0</td>\n",
       "      <td>2007.0</td>\n",
       "      <td>actress,soundtrack,archive_footage</td>\n",
       "      <td>tt0049408,tt0045793,tt0039192,tt0050105</td>\n",
       "    </tr>\n",
       "    <tr>\n",
       "      <th>38</th>\n",
       "      <td>nm0000040</td>\n",
       "      <td>Stanley Kubrick</td>\n",
       "      <td>1928.0</td>\n",
       "      <td>1999.0</td>\n",
       "      <td>director,writer,producer</td>\n",
       "      <td>tt0062622,tt0066921,tt0072684,tt0093058</td>\n",
       "    </tr>\n",
       "    <tr>\n",
       "      <th>39</th>\n",
       "      <td>nm0000041</td>\n",
       "      <td>Akira Kurosawa</td>\n",
       "      <td>1910.0</td>\n",
       "      <td>1998.0</td>\n",
       "      <td>writer,director,assistant_director</td>\n",
       "      <td>tt0051808,tt0080979,tt0089881,tt0057565</td>\n",
       "    </tr>\n",
       "    <tr>\n",
       "      <th>42</th>\n",
       "      <td>nm0000044</td>\n",
       "      <td>Burt Lancaster</td>\n",
       "      <td>1913.0</td>\n",
       "      <td>1994.0</td>\n",
       "      <td>actor,producer,miscellaneous</td>\n",
       "      <td>tt0045793,tt0085859,tt0051036,tt0057091</td>\n",
       "    </tr>\n",
       "    <tr>\n",
       "      <th>45</th>\n",
       "      <td>nm0000047</td>\n",
       "      <td>Sophia Loren</td>\n",
       "      <td>1934.0</td>\n",
       "      <td>NaN</td>\n",
       "      <td>actress,soundtrack,archive_footage</td>\n",
       "      <td>tt0054749,tt0060121,tt0058335,tt0076085</td>\n",
       "    </tr>\n",
       "    <tr>\n",
       "      <th>47</th>\n",
       "      <td>nm0000049</td>\n",
       "      <td>Henry Mancini</td>\n",
       "      <td>1924.0</td>\n",
       "      <td>1994.0</td>\n",
       "      <td>music_department,composer,actor</td>\n",
       "      <td>tt0054698,tt0085101,tt0383216,tt0057413</td>\n",
       "    </tr>\n",
       "    <tr>\n",
       "      <th>50</th>\n",
       "      <td>nm0000052</td>\n",
       "      <td>Marcello Mastroianni</td>\n",
       "      <td>1924.0</td>\n",
       "      <td>1996.0</td>\n",
       "      <td>actor,producer,miscellaneous</td>\n",
       "      <td>tt0053779,tt0056801,tt0076085,tt0057171</td>\n",
       "    </tr>\n",
       "    <tr>\n",
       "      <th>51</th>\n",
       "      <td>nm0000053</td>\n",
       "      <td>Robert Mitchum</td>\n",
       "      <td>1917.0</td>\n",
       "      <td>1997.0</td>\n",
       "      <td>actor,producer,writer</td>\n",
       "      <td>tt0039689,tt0056197,tt0048424,tt0050356</td>\n",
       "    </tr>\n",
       "    <tr>\n",
       "      <th>54</th>\n",
       "      <td>nm0000056</td>\n",
       "      <td>Paul Newman</td>\n",
       "      <td>1925.0</td>\n",
       "      <td>2008.0</td>\n",
       "      <td>actor,producer,director</td>\n",
       "      <td>tt0054997,tt0257044,tt0084855,tt0110684</td>\n",
       "    </tr>\n",
       "    <tr>\n",
       "      <th>56</th>\n",
       "      <td>nm0000058</td>\n",
       "      <td>Maureen O'Hara</td>\n",
       "      <td>1920.0</td>\n",
       "      <td>2015.0</td>\n",
       "      <td>actress,soundtrack,archive_footage</td>\n",
       "      <td>tt0045061,tt0039628,tt0055277,tt0033729</td>\n",
       "    </tr>\n",
       "    <tr>\n",
       "      <th>58</th>\n",
       "      <td>nm0000060</td>\n",
       "      <td>Gregory Peck</td>\n",
       "      <td>1916.0</td>\n",
       "      <td>2003.0</td>\n",
       "      <td>actor,producer,miscellaneous</td>\n",
       "      <td>tt0056592,tt0038109,tt0046250,tt0077269</td>\n",
       "    </tr>\n",
       "  </tbody>\n",
       "</table>\n",
       "</div>"
      ],
      "text/plain": [
       "       nconst           primaryName  birthYear  deathYear  \\\n",
       "1   nm0000002         Lauren Bacall     1924.0     2014.0   \n",
       "2   nm0000003       Brigitte Bardot     1934.0        NaN   \n",
       "4   nm0000005        Ingmar Bergman     1918.0     2007.0   \n",
       "7   nm0000008         Marlon Brando     1924.0     2004.0   \n",
       "12  nm0000013             Doris Day     1922.0     2019.0   \n",
       "13  nm0000014   Olivia de Havilland     1916.0     2020.0   \n",
       "15  nm0000016       Georges Delerue     1925.0     1992.0   \n",
       "16  nm0000017      Marlene Dietrich     1901.0     1992.0   \n",
       "17  nm0000018          Kirk Douglas     1916.0     2020.0   \n",
       "18  nm0000019      Federico Fellini     1920.0     1993.0   \n",
       "20  nm0000021         Joan Fontaine     1917.0     2013.0   \n",
       "23  nm0000024          John Gielgud     1904.0     2000.0   \n",
       "25  nm0000027         Alec Guinness     1914.0     2000.0   \n",
       "27  nm0000029     Margaux Hemingway     1954.0     1996.0   \n",
       "28  nm0000030        Audrey Hepburn     1929.0     1993.0   \n",
       "29  nm0000031     Katharine Hepburn     1907.0     2003.0   \n",
       "30  nm0000032       Charlton Heston     1923.0     2008.0   \n",
       "33  nm0000035          James Horner     1953.0     2015.0   \n",
       "35  nm0000037            Gene Kelly     1912.0     1996.0   \n",
       "37  nm0000039          Deborah Kerr     1921.0     2007.0   \n",
       "38  nm0000040       Stanley Kubrick     1928.0     1999.0   \n",
       "39  nm0000041        Akira Kurosawa     1910.0     1998.0   \n",
       "42  nm0000044        Burt Lancaster     1913.0     1994.0   \n",
       "45  nm0000047          Sophia Loren     1934.0        NaN   \n",
       "47  nm0000049         Henry Mancini     1924.0     1994.0   \n",
       "50  nm0000052  Marcello Mastroianni     1924.0     1996.0   \n",
       "51  nm0000053        Robert Mitchum     1917.0     1997.0   \n",
       "54  nm0000056           Paul Newman     1925.0     2008.0   \n",
       "56  nm0000058        Maureen O'Hara     1920.0     2015.0   \n",
       "58  nm0000060          Gregory Peck     1916.0     2003.0   \n",
       "\n",
       "                        primaryProfession  \\\n",
       "1      actress,soundtrack,archive_footage   \n",
       "2       actress,music_department,producer   \n",
       "4                   writer,director,actor   \n",
       "7                   actor,director,writer   \n",
       "12         actress,producer,miscellaneous   \n",
       "13     actress,soundtrack,archive_footage   \n",
       "15        composer,music_department,actor   \n",
       "16    actress,music_department,soundtrack   \n",
       "17                actor,producer,director   \n",
       "18                  writer,director,actor   \n",
       "20            actress,producer,soundtrack   \n",
       "23                  actor,director,writer   \n",
       "25                actor,writer,soundtrack   \n",
       "27  actress,miscellaneous,archive_footage   \n",
       "28     actress,soundtrack,archive_footage   \n",
       "29              actress,writer,soundtrack   \n",
       "30                  actor,director,writer   \n",
       "33        music_department,composer,actor   \n",
       "35           actor,miscellaneous,director   \n",
       "37     actress,soundtrack,archive_footage   \n",
       "38               director,writer,producer   \n",
       "39     writer,director,assistant_director   \n",
       "42           actor,producer,miscellaneous   \n",
       "45     actress,soundtrack,archive_footage   \n",
       "47        music_department,composer,actor   \n",
       "50           actor,producer,miscellaneous   \n",
       "51                  actor,producer,writer   \n",
       "54                actor,producer,director   \n",
       "56     actress,soundtrack,archive_footage   \n",
       "58           actor,producer,miscellaneous   \n",
       "\n",
       "                             knownForTitles  \n",
       "1   tt0037382,tt0075213,tt0117057,tt0038355  \n",
       "2   tt0057345,tt0049189,tt0056404,tt0054452  \n",
       "4   tt0050986,tt0069467,tt0050976,tt0083922  \n",
       "7   tt0078788,tt0068646,tt0047296,tt0070849  \n",
       "12  tt0048317,tt0045591,tt0053172,tt0055100  \n",
       "13  tt0031381,tt0041452,tt0029843,tt0040806  \n",
       "15  tt0091763,tt0096320,tt0069946,tt0080610  \n",
       "16  tt0051201,tt0055031,tt0052311,tt0021156  \n",
       "17  tt0080736,tt0054331,tt0049456,tt0050825  \n",
       "18  tt0056801,tt0047528,tt0071129,tt0050783  \n",
       "20  tt0034248,tt0032976,tt0035751,tt0036969  \n",
       "23  tt0082031,tt0071877,tt0045943,tt0117631  \n",
       "25  tt0076759,tt0050212,tt0041546,tt0051739  \n",
       "27  tt0077800,tt0102122,tt0110138,tt0074802  \n",
       "28  tt0054698,tt0046250,tt0056923,tt0058385  \n",
       "29  tt0063227,tt0082846,tt0032904,tt0043265  \n",
       "30  tt0052618,tt0049833,tt0070723,tt0067525  \n",
       "33  tt0120338,tt0499549,tt0177971,tt0120746  \n",
       "35  tt0045152,tt0043278,tt0053946,tt0041716  \n",
       "37  tt0049408,tt0045793,tt0039192,tt0050105  \n",
       "38  tt0062622,tt0066921,tt0072684,tt0093058  \n",
       "39  tt0051808,tt0080979,tt0089881,tt0057565  \n",
       "42  tt0045793,tt0085859,tt0051036,tt0057091  \n",
       "45  tt0054749,tt0060121,tt0058335,tt0076085  \n",
       "47  tt0054698,tt0085101,tt0383216,tt0057413  \n",
       "50  tt0053779,tt0056801,tt0076085,tt0057171  \n",
       "51  tt0039689,tt0056197,tt0048424,tt0050356  \n",
       "54  tt0054997,tt0257044,tt0084855,tt0110684  \n",
       "56  tt0045061,tt0039628,tt0055277,tt0033729  \n",
       "58  tt0056592,tt0038109,tt0046250,tt0077269  "
      ]
     },
     "execution_count": 35,
     "metadata": {},
     "output_type": "execute_result"
    }
   ],
   "source": [
    "df1_filtered.head(30)"
   ]
  },
  {
   "cell_type": "code",
   "execution_count": 36,
   "metadata": {
    "colab": {
     "base_uri": "https://localhost:8080/"
    },
    "id": "88LQGWFicbs5",
    "outputId": "bc484baf-f74e-49cb-fc45-eaf6adfaeaa0"
   },
   "outputs": [
    {
     "name": "stdout",
     "output_type": "stream",
     "text": [
      "<class 'pandas.core.frame.DataFrame'>\n",
      "Index: 10757376 entries, 0 to 14013600\n",
      "Data columns (total 6 columns):\n",
      " #   Column             Dtype         \n",
      "---  ------             -----         \n",
      " 0   nconst             object        \n",
      " 1   primaryName        object        \n",
      " 2   birthYear          datetime64[ns]\n",
      " 3   deathYear          datetime64[ns]\n",
      " 4   primaryProfession  object        \n",
      " 5   knownForTitles     object        \n",
      "dtypes: datetime64[ns](2), object(4)\n",
      "memory usage: 574.5+ MB\n",
      "None\n"
     ]
    }
   ],
   "source": [
    "# Convertir 'birthYear' en datetime, en prenant l'année comme une date de début de l'année\n",
    "df1['birthYear'] = pd.to_datetime(df1['birthYear'], format='%Y', errors='coerce')\n",
    "\n",
    "# Convertir 'deathYear' en datetime, en prenant l'année comme une date de fin de l'année (si elle existe)\n",
    "df1['deathYear'] = pd.to_datetime(df1['deathYear'], format='%Y', errors='coerce')\n",
    "\n",
    "# Vérifier le résultat\n",
    "print(df1.info())\n"
   ]
  },
  {
   "cell_type": "code",
   "execution_count": 37,
   "metadata": {
    "colab": {
     "base_uri": "https://localhost:8080/"
    },
    "id": "kYUw0pJJuv49",
    "outputId": "519ea5e7-39bc-4c79-a45c-d61f968f319b"
   },
   "outputs": [
    {
     "name": "stdout",
     "output_type": "stream",
     "text": [
      "<class 'pandas.core.frame.DataFrame'>\n",
      "Index: 337404 entries, 1 to 4832791\n",
      "Data columns (total 6 columns):\n",
      " #   Column             Non-Null Count   Dtype  \n",
      "---  ------             --------------   -----  \n",
      " 0   nconst             337404 non-null  object \n",
      " 1   primaryName        337404 non-null  object \n",
      " 2   birthYear          337404 non-null  float64\n",
      " 3   deathYear          82034 non-null   float64\n",
      " 4   primaryProfession  337404 non-null  object \n",
      " 5   knownForTitles     333663 non-null  object \n",
      "dtypes: float64(2), object(4)\n",
      "memory usage: 18.0+ MB\n",
      "None\n"
     ]
    }
   ],
   "source": [
    "df1 = df1_filtered\n",
    "print(df1.info())"
   ]
  },
  {
   "cell_type": "code",
   "execution_count": 38,
   "metadata": {
    "id": "kAq5MxdmbXNF"
   },
   "outputs": [],
   "source": [
    "# Sauvegarder le DataFrame nettoyé \n",
    "df1_filtered.to_csv('C:/Users/Win10/Desktop/projet 2 bdd/name_basics_mourad_fin.csv', index=False)"
   ]
  }
 ],
 "metadata": {
  "colab": {
   "provenance": []
  },
  "kernelspec": {
   "display_name": "base",
   "language": "python",
   "name": "python3"
  },
  "language_info": {
   "codemirror_mode": {
    "name": "ipython",
    "version": 3
   },
   "file_extension": ".py",
   "mimetype": "text/x-python",
   "name": "python",
   "nbconvert_exporter": "python",
   "pygments_lexer": "ipython3",
   "version": "3.12.4"
  }
 },
 "nbformat": 4,
 "nbformat_minor": 0
}
