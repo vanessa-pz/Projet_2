{
 "cells": [
  {
   "cell_type": "code",
   "execution_count": 1,
   "metadata": {},
   "outputs": [
    {
     "data": {
      "text/html": [
       "<div>\n",
       "<style scoped>\n",
       "    .dataframe tbody tr th:only-of-type {\n",
       "        vertical-align: middle;\n",
       "    }\n",
       "\n",
       "    .dataframe tbody tr th {\n",
       "        vertical-align: top;\n",
       "    }\n",
       "\n",
       "    .dataframe thead th {\n",
       "        text-align: right;\n",
       "    }\n",
       "</style>\n",
       "<table border=\"1\" class=\"dataframe\">\n",
       "  <thead>\n",
       "    <tr style=\"text-align: right;\">\n",
       "      <th></th>\n",
       "      <th>adult</th>\n",
       "      <th>tconst</th>\n",
       "      <th>overview</th>\n",
       "      <th>poster_path</th>\n",
       "      <th>production_countries</th>\n",
       "      <th>production_companies_name</th>\n",
       "      <th>averageRating</th>\n",
       "      <th>category</th>\n",
       "      <th>primaryName</th>\n",
       "      <th>birthYear</th>\n",
       "      <th>genres</th>\n",
       "      <th>titles</th>\n",
       "      <th>languages_combined</th>\n",
       "      <th>votes</th>\n",
       "      <th>runtime</th>\n",
       "      <th>start_year</th>\n",
       "    </tr>\n",
       "  </thead>\n",
       "  <tbody>\n",
       "    <tr>\n",
       "      <th>0</th>\n",
       "      <td>False</td>\n",
       "      <td>tt0035423</td>\n",
       "      <td>When her scientist ex-boyfriend discovers a po...</td>\n",
       "      <td>/mUvikzKJJSg9khrVdxK8kg3TMHA.jpg</td>\n",
       "      <td>['US']</td>\n",
       "      <td>['Konrad Pictures', 'Miramax']</td>\n",
       "      <td>6.400675</td>\n",
       "      <td>actor</td>\n",
       "      <td>Unknown</td>\n",
       "      <td>1981.0</td>\n",
       "      <td>['Romance', 'Fantasy', 'Comedy'],</td>\n",
       "      <td>Kate &amp; Leopold -</td>\n",
       "      <td>['en', 'fr', 'it'],</td>\n",
       "      <td>6.326 /</td>\n",
       "      <td>/ 118.0</td>\n",
       "      <td>2001.0 -</td>\n",
       "    </tr>\n",
       "    <tr>\n",
       "      <th>1</th>\n",
       "      <td>False</td>\n",
       "      <td>tt0097106</td>\n",
       "      <td>The story of an introverted young girl  just r...</td>\n",
       "      <td>/bP2qpuzQPBBBJa4kOhvLvOOiASq.jpg</td>\n",
       "      <td>['FR']</td>\n",
       "      <td>['Les Films du Losange', 'Investimage', 'Compa...</td>\n",
       "      <td>6.400675</td>\n",
       "      <td>actor</td>\n",
       "      <td>Unknown</td>\n",
       "      <td>1981.0</td>\n",
       "      <td>['Comedy', 'Drama', 'Romance'],</td>\n",
       "      <td>A Tale of Springtime -</td>\n",
       "      <td>['fr'],</td>\n",
       "      <td>6.9 /</td>\n",
       "      <td>/ 103.0</td>\n",
       "      <td>1990.0 -</td>\n",
       "    </tr>\n",
       "  </tbody>\n",
       "</table>\n",
       "</div>"
      ],
      "text/plain": [
       "   adult     tconst                                           overview  \\\n",
       "0  False  tt0035423  When her scientist ex-boyfriend discovers a po...   \n",
       "1  False  tt0097106  The story of an introverted young girl  just r...   \n",
       "\n",
       "                        poster_path production_countries  \\\n",
       "0  /mUvikzKJJSg9khrVdxK8kg3TMHA.jpg               ['US']   \n",
       "1  /bP2qpuzQPBBBJa4kOhvLvOOiASq.jpg               ['FR']   \n",
       "\n",
       "                           production_companies_name  averageRating category  \\\n",
       "0                     ['Konrad Pictures', 'Miramax']       6.400675    actor   \n",
       "1  ['Les Films du Losange', 'Investimage', 'Compa...       6.400675    actor   \n",
       "\n",
       "  primaryName  birthYear                             genres  \\\n",
       "0     Unknown     1981.0  ['Romance', 'Fantasy', 'Comedy'],   \n",
       "1     Unknown     1981.0    ['Comedy', 'Drama', 'Romance'],   \n",
       "\n",
       "                    titles    languages_combined     votes   runtime  \\\n",
       "0        Kate & Leopold -   ['en', 'fr', 'it'],   6.326 /    / 118.0   \n",
       "1  A Tale of Springtime -               ['fr'],     6.9 /    / 103.0   \n",
       "\n",
       "  start_year  \n",
       "0  2001.0 -   \n",
       "1  1990.0 -   "
      ]
     },
     "metadata": {},
     "output_type": "display_data"
    }
   ],
   "source": [
    "import pandas as pd\n",
    "df = pd.read_csv(r'C:\\Users\\dassi\\Downloads\\table_finale_final_df.csv')\n",
    "display(df.head(2))"
   ]
  },
  {
   "cell_type": "code",
   "execution_count": 2,
   "metadata": {},
   "outputs": [
    {
     "name": "stdout",
     "output_type": "stream",
     "text": [
      "Index(['adult', 'tconst', 'overview', 'poster_path', 'production_countries',\n",
      "       'production_companies_name', 'averageRating', 'category', 'primaryName',\n",
      "       'birthYear', 'genres', 'titles', 'languages_combined', 'votes',\n",
      "       'runtime', 'start_year'],\n",
      "      dtype='object')\n"
     ]
    }
   ],
   "source": [
    "print(df.columns)\n"
   ]
  },
  {
   "cell_type": "code",
   "execution_count": 3,
   "metadata": {},
   "outputs": [],
   "source": [
    "# Nettoyage de la colonne 'votes'\n",
    "df['votes'] = df['votes'].str.extract(r'(\\d+\\.\\d+|\\d+)').astype(float)  # Extraire les nombres uniquement\n"
   ]
  },
  {
   "cell_type": "code",
   "execution_count": 5,
   "metadata": {},
   "outputs": [
    {
     "name": "stdout",
     "output_type": "stream",
     "text": [
      "adult                           bool\n",
      "tconst                        object\n",
      "overview                      object\n",
      "poster_path                   object\n",
      "production_countries          object\n",
      "production_companies_name     object\n",
      "averageRating                float64\n",
      "category                      object\n",
      "primaryName                   object\n",
      "birthYear                    float64\n",
      "genres                        object\n",
      "titles                        object\n",
      "languages_combined            object\n",
      "votes                        float64\n",
      "runtime                       object\n",
      "start_year                    object\n",
      "dtype: object\n"
     ]
    }
   ],
   "source": [
    "print(df.dtypes)\n"
   ]
  },
  {
   "cell_type": "code",
   "execution_count": 6,
   "metadata": {},
   "outputs": [
    {
     "name": "stdout",
     "output_type": "stream",
     "text": [
      "[6.326 6.9   3.    ... 7.659 7.072 5.328]\n"
     ]
    }
   ],
   "source": [
    "print(df['votes'].unique())\n"
   ]
  },
  {
   "cell_type": "code",
   "execution_count": 7,
   "metadata": {},
   "outputs": [
    {
     "name": "stderr",
     "output_type": "stream",
     "text": [
      "C:\\Users\\dassi\\AppData\\Local\\Temp\\ipykernel_36108\\3208121625.py:2: FutureWarning: A value is trying to be set on a copy of a DataFrame or Series through chained assignment using an inplace method.\n",
      "The behavior will change in pandas 3.0. This inplace method will never work because the intermediate object on which we are setting values always behaves as a copy.\n",
      "\n",
      "For example, when doing 'df[col].method(value, inplace=True)', try using 'df.method({col: value}, inplace=True)' or df[col] = df[col].method(value) instead, to perform the operation inplace on the original object.\n",
      "\n",
      "\n",
      "  df['votes'].replace([float('inf'), -float('inf')], float('nan'), inplace=True)\n",
      "C:\\Users\\dassi\\AppData\\Local\\Temp\\ipykernel_36108\\3208121625.py:5: FutureWarning: A value is trying to be set on a copy of a DataFrame or Series through chained assignment using an inplace method.\n",
      "The behavior will change in pandas 3.0. This inplace method will never work because the intermediate object on which we are setting values always behaves as a copy.\n",
      "\n",
      "For example, when doing 'df[col].method(value, inplace=True)', try using 'df.method({col: value}, inplace=True)' or df[col] = df[col].method(value) instead, to perform the operation inplace on the original object.\n",
      "\n",
      "\n",
      "  df['votes'].fillna(df['votes'].median(), inplace=True)\n"
     ]
    }
   ],
   "source": [
    "# Remplacer les valeurs infinies ou aberrantes par NaN\n",
    "df['votes'].replace([float('inf'), -float('inf')], float('nan'), inplace=True)\n",
    "\n",
    "# Supprimer ou remplacer les NaN\n",
    "df['votes'].fillna(df['votes'].median(), inplace=True)\n"
   ]
  },
  {
   "cell_type": "code",
   "execution_count": 8,
   "metadata": {},
   "outputs": [],
   "source": [
    "df['votes'] = pd.to_numeric(df['votes'], errors='coerce')\n"
   ]
  },
  {
   "cell_type": "code",
   "execution_count": 10,
   "metadata": {},
   "outputs": [
    {
     "ename": "NameError",
     "evalue": "name 'df_train' is not defined",
     "output_type": "error",
     "traceback": [
      "\u001b[1;31m---------------------------------------------------------------------------\u001b[0m",
      "\u001b[1;31mNameError\u001b[0m                                 Traceback (most recent call last)",
      "Cell \u001b[1;32mIn[10], line 1\u001b[0m\n\u001b[1;32m----> 1\u001b[0m \u001b[38;5;28mprint\u001b[39m(\u001b[43mdf_train\u001b[49m\u001b[38;5;241m.\u001b[39mdtypes)  \u001b[38;5;66;03m# Vérifie le type de chaque colonne\u001b[39;00m\n",
      "\u001b[1;31mNameError\u001b[0m: name 'df_train' is not defined"
     ]
    }
   ],
   "source": [
    "print(df_train.dtypes)  # Vérifie le type de chaque colonne\n"
   ]
  },
  {
   "cell_type": "code",
   "execution_count": 11,
   "metadata": {},
   "outputs": [
    {
     "name": "stdout",
     "output_type": "stream",
     "text": [
      "[118. 103.  95.  99. 107. 300.  89.  98.  92.  87.  78. 110. 137. 101.\n",
      "  96.  88.  90.   8. 105. 108. 117.  82.  85. 138. 112.  91. 111.  93.\n",
      " 100. 158.  84. 119. 125. 129.   0. 104. 102. 127. 135. 210. 114. 120.\n",
      "   9.  80.  97.  45.  86. 160.  94. 298.  81. 116.  69.  28.  46. 177.\n",
      " 133. 106.  61. 109. 124. 169.  74. 170. 140.  79.  83. 178. 113. 122.\n",
      " 123.  53. 148. 128. 115.  75.   6.  25. 141.   4.  20.  70.  65.  19.\n",
      "  67.   5.  15. 130.  16.  50.  13. 143. 121. 154.  68.  55.  47.  76.\n",
      "  10.  31. 126.  37.  17.  21.  27.  11.  32.  72. 157. 150.  77.  58.\n",
      "   7. 144.  57. 180. 205. 200.  12.  14. 139. 136. 145. 131. 168.  38.\n",
      "  48.  62. 134.  40.  42.  41.  24.  43.  23.  22. 450. 152.  18.  26.\n",
      "  73.  54.  63.  30.  29. 132.   3.   2. 155. 142.  52.  56.  64. 156.\n",
      "  51.  33.  35.  60.  66.  36. 163.  59.  71. 162. 194. 147.  34.  44.\n",
      " 206. 212. 240.]\n"
     ]
    }
   ],
   "source": [
    "# Extraire uniquement les nombres dans 'runtime'\n",
    "df['runtime'] = df['runtime'].str.extract(r'(\\d+\\.\\d+|\\d+)').astype(float)\n",
    "\n",
    "# Vérifier la conversion\n",
    "print(df['runtime'].unique())\n"
   ]
  },
  {
   "cell_type": "code",
   "execution_count": 12,
   "metadata": {},
   "outputs": [
    {
     "name": "stdout",
     "output_type": "stream",
     "text": [
      "[2001. 1990. 1991. 1992. 1993. 1994. 1995. 1996. 1997. 1998. 1999. 2002.\n",
      " 2003. 2000. 2004. 2007. 2005. 2012. 2006. 2008. 2009. 2010. 2011. 2022.\n",
      " 2021. 2013. 2020. 2019. 2018. 2023. 2016. 2014. 2015. 2017.]\n"
     ]
    }
   ],
   "source": [
    "# Nettoyer la colonne 'start_year' pour ne garder que les valeurs numériques\n",
    "df['start_year'] = df['start_year'].str.extract(r'(\\d+)', expand=False).astype(float)\n",
    "\n",
    "# Vérifier les valeurs uniques de la colonne 'start_year'\n",
    "print(df['start_year'].unique())\n"
   ]
  },
  {
   "cell_type": "code",
   "execution_count": 17,
   "metadata": {},
   "outputs": [],
   "source": [
    "from sklearn.model_selection import train_test_split\n",
    "from sklearn.preprocessing import StandardScaler, OneHotEncoder\n",
    "from sklearn.compose import ColumnTransformer\n",
    "from sklearn.pipeline import Pipeline\n",
    "from sklearn.cluster import KMeans"
   ]
  },
  {
   "cell_type": "code",
   "execution_count": 18,
   "metadata": {},
   "outputs": [],
   "source": [
    "# Sélectionner uniquement les colonnes numériques\n",
    "X = df[['averageRating', 'votes', 'runtime', 'start_year']]  # Adapter selon les features choisies\n",
    "\n",
    "# Standardiser les caractéristiques\n",
    "scaler = StandardScaler()\n",
    "X_scaled = scaler.fit_transform(X)\n",
    "\n",
    "# Séparer en jeu d'entraînement et test\n",
    "X_train, X_test = train_test_split(X_scaled, test_size=0.2, random_state=42)\n"
   ]
  },
  {
   "cell_type": "code",
   "execution_count": 20,
   "metadata": {},
   "outputs": [
    {
     "name": "stdout",
     "output_type": "stream",
     "text": [
      "Accuracy: 0.94\n",
      "Confusion Matrix:\n",
      "[[735   8]\n",
      " [ 38   5]]\n",
      "Classification Report:\n",
      "              precision    recall  f1-score   support\n",
      "\n",
      "           0       0.95      0.99      0.97       743\n",
      "           1       0.38      0.12      0.18        43\n",
      "\n",
      "    accuracy                           0.94       786\n",
      "   macro avg       0.67      0.55      0.57       786\n",
      "weighted avg       0.92      0.94      0.93       786\n",
      "\n"
     ]
    }
   ],
   "source": [
    "import pandas as pd\n",
    "from sklearn.preprocessing import StandardScaler, LabelEncoder\n",
    "from sklearn.model_selection import train_test_split\n",
    "from sklearn.neighbors import KNeighborsClassifier\n",
    "from sklearn.metrics import accuracy_score, confusion_matrix, classification_report\n",
    "\n",
    "# Sélectionner les colonnes numériques\n",
    "X = df[['averageRating', 'votes', 'runtime', 'start_year']]  # Adapter selon vos données\n",
    "\n",
    "# Encoder la colonne cible\n",
    "label_encoder = LabelEncoder()\n",
    "y = label_encoder.fit_transform(df['category'])  # Remplacer 'category' par votre colonne cible\n",
    "\n",
    "# Standardiser les caractéristiques\n",
    "scaler = StandardScaler()\n",
    "X_scaled = scaler.fit_transform(X)\n",
    "\n",
    "# Diviser les données en ensembles d'entraînement et de test\n",
    "X_train, X_test, y_train, y_test = train_test_split(X_scaled, y, test_size=0.2, random_state=42)\n",
    "\n",
    "# Appliquer le modèle KNN\n",
    "knn = KNeighborsClassifier(n_neighbors=5)  # Ajuster n_neighbors selon le besoin\n",
    "knn.fit(X_train, y_train)\n",
    "\n",
    "# Prédire sur l'ensemble de test\n",
    "y_pred = knn.predict(X_test)\n",
    "\n",
    "# Évaluer les performances du modèle\n",
    "accuracy = accuracy_score(y_test, y_pred)\n",
    "cm = confusion_matrix(y_test, y_pred)\n",
    "report = classification_report(y_test, y_pred)\n",
    "\n",
    "# Affichage des résultats\n",
    "print(f\"Accuracy: {accuracy:.2f}\")\n",
    "print(\"Confusion Matrix:\")\n",
    "print(cm)\n",
    "print(\"Classification Report:\")\n",
    "print(report)\n"
   ]
  },
  {
   "cell_type": "code",
   "execution_count": 22,
   "metadata": {},
   "outputs": [
    {
     "name": "stdout",
     "output_type": "stream",
     "text": [
      "      averageRating  votes  runtime category  \\\n",
      "0          6.400675  6.326    118.0    actor   \n",
      "726        6.400675  6.607    115.0    actor   \n",
      "642        6.400675  5.900    119.0    actor   \n",
      "3724       6.400675  6.300    120.0    actor   \n",
      "553        6.400675  6.515    111.0    actor   \n",
      "\n",
      "                                 genres                                titles  \n",
      "0     ['Romance', 'Fantasy', 'Comedy'],                     Kate & Leopold -   \n",
      "726           ['Adventure', 'History'],              The Warrior's Brother -   \n",
      "642                         ['Comedy'],         Ghislain Lambert's Bicycle -   \n",
      "3724                        ['Comedy'],  Dany Boon à s'baraque et en ch'ti -   \n",
      "553      ['Comedy', 'Crime', 'Action'],                  Miss Congeniality -   \n"
     ]
    }
   ],
   "source": [
    "# Système de recommandation pour ce KNN\n",
    "\n",
    "from sklearn.neighbors import NearestNeighbors\n",
    "from sklearn.preprocessing import StandardScaler\n",
    "import pandas as pd\n",
    "\n",
    "# Sélectionner les colonnes pertinentes pour KNN\n",
    "features = ['averageRating', 'votes', 'runtime', 'start_year']  # Choisir les bonnes colonnes\n",
    "\n",
    "# 1. Normaliser les données\n",
    "scaler = StandardScaler()\n",
    "X = scaler.fit_transform(df[features])\n",
    "\n",
    "# 2. Appliquer KNN pour trouver les voisins les plus proches\n",
    "knn = NearestNeighbors(n_neighbors=5, metric='euclidean')  # Choisir n_neighbors en fonction de l'exigence\n",
    "knn.fit(X)\n",
    "\n",
    "# 3. Recommander des films similaires pour un film donné\n",
    "def recommend_knn(movie_index, df, knn):\n",
    "    distances, indices = knn.kneighbors([X[movie_index]])\n",
    "    recommended_movies = df.iloc[indices[0]]\n",
    "    return recommended_movies[['averageRating', 'votes', 'runtime', 'category', 'genres', 'titles']]\n",
    "\n",
    "# Exemple d'utilisation pour recommander des films similaires\n",
    "recommended_movies_knn = recommend_knn(0, df, knn)\n",
    "print(recommended_movies_knn.head())\n"
   ]
  },
  {
   "cell_type": "code",
   "execution_count": 23,
   "metadata": {},
   "outputs": [
    {
     "name": "stdout",
     "output_type": "stream",
     "text": [
      "   averageRating  votes  runtime  start_year category  \\\n",
      "0       6.400675  6.326    118.0      2001.0    actor   \n",
      "1       6.400675  6.900    103.0      1990.0    actor   \n",
      "2       6.400675  3.000     95.0      1991.0    actor   \n",
      "3       6.400675  0.000     99.0      1990.0    actor   \n",
      "4       6.400675  6.900    107.0      1990.0    actor   \n",
      "\n",
      "                              genres  cluster  \n",
      "0  ['Romance', 'Fantasy', 'Comedy'],        2  \n",
      "1    ['Comedy', 'Drama', 'Romance'],        2  \n",
      "2  ['Crime', 'Action', 'Adventure'],        2  \n",
      "3            ['Drama', 'Adventure'],        2  \n",
      "4             ['Comedy', 'Romance'],        2  \n"
     ]
    }
   ],
   "source": [
    "# KMeans\n",
    "\n",
    "from sklearn.preprocessing import StandardScaler, OneHotEncoder\n",
    "from sklearn.compose import ColumnTransformer\n",
    "from sklearn.pipeline import Pipeline\n",
    "from sklearn.cluster import KMeans\n",
    "import pandas as pd\n",
    "\n",
    "\n",
    "\n",
    "# 1. Sélectionner les colonnes numériques\n",
    "numeric_columns = ['averageRating', 'votes', 'runtime', 'start_year']\n",
    "\n",
    "# 2. Sélectionner les colonnes catégorielles à encoder (comme 'category' et 'genres')\n",
    "categorical_columns = ['category', 'genres', 'languages_combined']\n",
    "\n",
    "# 3. Prétraiter les colonnes numériques et catégorielles\n",
    "numeric_transformer = StandardScaler()  # Normalisation des données numériques\n",
    "categorical_transformer = OneHotEncoder(handle_unknown='ignore')  # Encodage one-hot pour les colonnes catégorielles\n",
    "\n",
    "# Créer un transformateur de colonnes\n",
    "preprocessor = ColumnTransformer(\n",
    "    transformers=[\n",
    "        ('num', numeric_transformer, numeric_columns),\n",
    "        ('cat', categorical_transformer, categorical_columns)\n",
    "    ])\n",
    "\n",
    "# Appliquer le KMeans avec un pipeline\n",
    "pipeline = Pipeline(steps=[\n",
    "    ('preprocessor', preprocessor),\n",
    "    ('kmeans', KMeans(n_clusters=3, random_state=42))\n",
    "])\n",
    "\n",
    "# Appliquer le clustering\n",
    "df['cluster'] = pipeline.fit_predict(df)\n",
    "\n",
    "# Afficher les résultats\n",
    "print(df[['averageRating', 'votes', 'runtime', 'start_year', 'category', 'genres', 'cluster']].head())\n"
   ]
  },
  {
   "cell_type": "code",
   "execution_count": 24,
   "metadata": {},
   "outputs": [
    {
     "name": "stdout",
     "output_type": "stream",
     "text": [
      "   averageRating  votes  runtime category  \\\n",
      "0       6.400675  6.326    118.0    actor   \n",
      "1       6.400675  6.900    103.0    actor   \n",
      "2       6.400675  3.000     95.0    actor   \n",
      "4       6.400675  6.900    107.0    actor   \n",
      "5       6.400675  5.500    300.0    actor   \n",
      "\n",
      "                                          genres                   titles  \n",
      "0              ['Romance', 'Fantasy', 'Comedy'],        Kate & Leopold -   \n",
      "1                ['Comedy', 'Drama', 'Romance'],  A Tale of Springtime -   \n",
      "2              ['Crime', 'Action', 'Adventure'],      Eye of the Widow -   \n",
      "4                         ['Comedy', 'Romance'],             May Fools -   \n",
      "5  ['Drama', 'Action', 'Adventure', 'TV Movie'],            Desert Law -   \n"
     ]
    }
   ],
   "source": [
    "# sustème de recommandation pour Kmeans\n",
    "from sklearn.cluster import KMeans\n",
    "from sklearn.preprocessing import StandardScaler, OneHotEncoder\n",
    "from sklearn.compose import ColumnTransformer\n",
    "from sklearn.pipeline import Pipeline\n",
    "\n",
    "# 1. Sélectionner les colonnes pertinentes\n",
    "numeric_columns = ['averageRating', 'votes', 'runtime', 'start_year']\n",
    "categorical_columns = ['category', 'genres', 'languages_combined']\n",
    "\n",
    "# 2. Prétraiter les données\n",
    "numeric_transformer = StandardScaler()\n",
    "categorical_transformer = OneHotEncoder(handle_unknown='ignore')\n",
    "\n",
    "preprocessor = ColumnTransformer(\n",
    "    transformers=[\n",
    "        ('num', numeric_transformer, numeric_columns),\n",
    "        ('cat', categorical_transformer, categorical_columns)\n",
    "    ])\n",
    "\n",
    "# Créer un pipeline avec KMeans\n",
    "kmeans_pipeline = Pipeline(steps=[\n",
    "    ('preprocessor', preprocessor),\n",
    "    ('kmeans', KMeans(n_clusters=5, random_state=42))  # Choisir un nombre de clusters approprié\n",
    "])\n",
    "\n",
    "# Appliquer KMeans et obtenir les clusters\n",
    "df['cluster'] = kmeans_pipeline.fit_predict(df)\n",
    "\n",
    "# 3. Recommander un film basé sur le cluster\n",
    "def recommend_from_cluster(movie_index, df):\n",
    "    cluster_id = df.loc[movie_index, 'cluster']\n",
    "    recommended_movies = df[df['cluster'] == cluster_id]\n",
    "    return recommended_movies[['averageRating', 'votes', 'runtime', 'category', 'genres', 'titles']]\n",
    "\n",
    "# Exemple d'utilisation pour recommander des films similaires\n",
    "recommended_movies = recommend_from_cluster(0, df)\n",
    "print(recommended_movies.head())\n"
   ]
  },
  {
   "cell_type": "code",
   "execution_count": null,
   "metadata": {},
   "outputs": [],
   "source": []
  }
 ],
 "metadata": {
  "kernelspec": {
   "display_name": "Python 3",
   "language": "python",
   "name": "python3"
  },
  "language_info": {
   "codemirror_mode": {
    "name": "ipython",
    "version": 3
   },
   "file_extension": ".py",
   "mimetype": "text/x-python",
   "name": "python",
   "nbconvert_exporter": "python",
   "pygments_lexer": "ipython3",
   "version": "3.13.0"
  }
 },
 "nbformat": 4,
 "nbformat_minor": 2
}
