{
 "cells": [
  {
   "cell_type": "code",
   "execution_count": 3,
   "metadata": {},
   "outputs": [
    {
     "name": "stderr",
     "output_type": "stream",
     "text": [
      "C:\\Users\\dassi\\AppData\\Local\\Temp\\ipykernel_5824\\1057135892.py:3: DtypeWarning: Columns (6) have mixed types. Specify dtype option on import or set low_memory=False.\n",
      "  df = pd.read_csv(url, sep = '\\t', na_values=[\"\\\\N\", \"NaN\", \"\"])\n"
     ]
    },
    {
     "data": {
      "text/html": [
       "<div>\n",
       "<style scoped>\n",
       "    .dataframe tbody tr th:only-of-type {\n",
       "        vertical-align: middle;\n",
       "    }\n",
       "\n",
       "    .dataframe tbody tr th {\n",
       "        vertical-align: top;\n",
       "    }\n",
       "\n",
       "    .dataframe thead th {\n",
       "        text-align: right;\n",
       "    }\n",
       "</style>\n",
       "<table border=\"1\" class=\"dataframe\">\n",
       "  <thead>\n",
       "    <tr style=\"text-align: right;\">\n",
       "      <th></th>\n",
       "      <th>titleId</th>\n",
       "      <th>ordering</th>\n",
       "      <th>title</th>\n",
       "      <th>region</th>\n",
       "      <th>language</th>\n",
       "      <th>types</th>\n",
       "      <th>attributes</th>\n",
       "      <th>isOriginalTitle</th>\n",
       "    </tr>\n",
       "  </thead>\n",
       "  <tbody>\n",
       "    <tr>\n",
       "      <th>0</th>\n",
       "      <td>tt0000001</td>\n",
       "      <td>1</td>\n",
       "      <td>Carmencita</td>\n",
       "      <td>NaN</td>\n",
       "      <td>NaN</td>\n",
       "      <td>original</td>\n",
       "      <td>NaN</td>\n",
       "      <td>1</td>\n",
       "    </tr>\n",
       "    <tr>\n",
       "      <th>1</th>\n",
       "      <td>tt0000001</td>\n",
       "      <td>2</td>\n",
       "      <td>Carmencita</td>\n",
       "      <td>DE</td>\n",
       "      <td>NaN</td>\n",
       "      <td>NaN</td>\n",
       "      <td>literal title</td>\n",
       "      <td>0</td>\n",
       "    </tr>\n",
       "    <tr>\n",
       "      <th>2</th>\n",
       "      <td>tt0000001</td>\n",
       "      <td>3</td>\n",
       "      <td>Carmencita</td>\n",
       "      <td>US</td>\n",
       "      <td>NaN</td>\n",
       "      <td>imdbDisplay</td>\n",
       "      <td>NaN</td>\n",
       "      <td>0</td>\n",
       "    </tr>\n",
       "    <tr>\n",
       "      <th>3</th>\n",
       "      <td>tt0000001</td>\n",
       "      <td>4</td>\n",
       "      <td>Carmencita - spanyol tánc</td>\n",
       "      <td>HU</td>\n",
       "      <td>NaN</td>\n",
       "      <td>imdbDisplay</td>\n",
       "      <td>NaN</td>\n",
       "      <td>0</td>\n",
       "    </tr>\n",
       "    <tr>\n",
       "      <th>4</th>\n",
       "      <td>tt0000001</td>\n",
       "      <td>5</td>\n",
       "      <td>Καρμενσίτα</td>\n",
       "      <td>GR</td>\n",
       "      <td>NaN</td>\n",
       "      <td>imdbDisplay</td>\n",
       "      <td>NaN</td>\n",
       "      <td>0</td>\n",
       "    </tr>\n",
       "  </tbody>\n",
       "</table>\n",
       "</div>"
      ],
      "text/plain": [
       "     titleId  ordering                      title region language  \\\n",
       "0  tt0000001         1                 Carmencita    NaN      NaN   \n",
       "1  tt0000001         2                 Carmencita     DE      NaN   \n",
       "2  tt0000001         3                 Carmencita     US      NaN   \n",
       "3  tt0000001         4  Carmencita - spanyol tánc     HU      NaN   \n",
       "4  tt0000001         5                 Καρμενσίτα     GR      NaN   \n",
       "\n",
       "         types     attributes  isOriginalTitle  \n",
       "0     original            NaN                1  \n",
       "1          NaN  literal title                0  \n",
       "2  imdbDisplay            NaN                0  \n",
       "3  imdbDisplay            NaN                0  \n",
       "4  imdbDisplay            NaN                0  "
      ]
     },
     "metadata": {},
     "output_type": "display_data"
    }
   ],
   "source": [
    "import pandas as pd\n",
    "url = \"https://datasets.imdbws.com/title.akas.tsv.gz\"\n",
    "df = pd.read_csv(url, sep = '\\t', na_values=[\"\\\\N\", \"NaN\", \"\"])\n",
    "display(df.head(5))"
   ]
  },
  {
   "cell_type": "code",
   "execution_count": 4,
   "metadata": {},
   "outputs": [],
   "source": [
    "\n",
    "# Étape 1 : Nettoyage du DataFrame\n",
    "# Supprimer les colonnes non pertinentes\n",
    "df = df.drop(columns=['ordering', 'attributes'], errors='ignore')\n",
    "\n",
    "# Effacer NaN et supprimer les doublons\n",
    "df = df.dropna(subset=['types']).drop_duplicates()\n",
    "\n",
    "\n",
    "# Supprimer les lignes où des colonnes importantes sont NaN\n",
    "df = df.dropna(subset=['title', 'region', 'language'])"
   ]
  },
  {
   "cell_type": "code",
   "execution_count": 8,
   "metadata": {},
   "outputs": [
    {
     "name": "stdout",
     "output_type": "stream",
     "text": [
      "            titleId                                title region language  \\\n",
      "15316     tt0004972          El nacimiento de una nación     US       es   \n",
      "19874     tt0006432                       Alma Diabolica     US       es   \n",
      "40623     tt0011904                      As de corazones     US       es   \n",
      "47765     tt0013442                            Nosferatu     US       es   \n",
      "59116     tt0015624                      El gran desfile     US       es   \n",
      "...             ...                                  ...    ...      ...   \n",
      "50447086  tt9873892                    Clonaron a Tyrone     US       es   \n",
      "50450036  tt9874910           Ancient Greek Philosophers     US       en   \n",
      "50464714  tt9881938    Saturday Night Live: Cut for Time     US       es   \n",
      "50486969  tt9893250                Descuida, yo te cuido     US       es   \n",
      "50489100  tt9894516  Oni: La leyenda del dios del trueno     US       es   \n",
      "\n",
      "                types  isOriginalTitle  \n",
      "15316     imdbDisplay                0  \n",
      "19874     alternative                0  \n",
      "40623     imdbDisplay                0  \n",
      "47765     imdbDisplay                0  \n",
      "59116     imdbDisplay                0  \n",
      "...               ...              ...  \n",
      "50447086  imdbDisplay                0  \n",
      "50450036  imdbDisplay                0  \n",
      "50464714  imdbDisplay                0  \n",
      "50486969  imdbDisplay                0  \n",
      "50489100  imdbDisplay                0  \n",
      "\n",
      "[5972 rows x 6 columns]\n"
     ]
    }
   ],
   "source": [
    "df_us = df[df['region'] == 'US']\n",
    "print(df_us)"
   ]
  },
  {
   "cell_type": "code",
   "execution_count": null,
   "metadata": {},
   "outputs": [],
   "source": []
  },
  {
   "cell_type": "code",
   "execution_count": null,
   "metadata": {},
   "outputs": [],
   "source": []
  }
 ],
 "metadata": {
  "kernelspec": {
   "display_name": "Python 3",
   "language": "python",
   "name": "python3"
  },
  "language_info": {
   "codemirror_mode": {
    "name": "ipython",
    "version": 3
   },
   "file_extension": ".py",
   "mimetype": "text/x-python",
   "name": "python",
   "nbconvert_exporter": "python",
   "pygments_lexer": "ipython3",
   "version": "3.13.0"
  }
 },
 "nbformat": 4,
 "nbformat_minor": 2
}
