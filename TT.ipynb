import pandas as pd
url = "https://datasets.imdbws.com/title.akas.tsv.gz"
df = pd.read_csv(url, sep = '\t', na_values=["\\N", "NaN", ""])
display(df.head(5))

# Supprimer les colonnes non pertinentes
df = df.drop(columns=['ordering', 'attributes'], errors='ignore')

# Effacer NaN et supprimer les doublons
df = df.dropna(subset=['types']).drop_duplicates()

# Supprimer les lignes où des colonnes importantes sont NaN
df = df.dropna(subset=['title', 'region', 'language'])

df_us = df[df['region'] == 'US']
print(df_us)

